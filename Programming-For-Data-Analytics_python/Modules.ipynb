{
 "cells": [
  {
   "cell_type": "markdown",
   "metadata": {},
   "source": [
    "# Programming For Data Analytics (Python) - Modules"
   ]
  },
  {
   "cell_type": "markdown",
   "metadata": {},
   "source": [
    "# Module 2"
   ]
  },
  {
   "cell_type": "code",
   "execution_count": 4,
   "metadata": {},
   "outputs": [],
   "source": [
    "s = \"Python is a good language\"\n",
    "t = 'Its goof for data science'"
   ]
  },
  {
   "cell_type": "code",
   "execution_count": 5,
   "metadata": {},
   "outputs": [
    {
     "data": {
      "text/plain": [
       "str"
      ]
     },
     "execution_count": 5,
     "metadata": {},
     "output_type": "execute_result"
    }
   ],
   "source": [
    "type(s)"
   ]
  },
  {
   "cell_type": "code",
   "execution_count": 6,
   "metadata": {},
   "outputs": [
    {
     "name": "stdout",
     "output_type": "stream",
     "text": [
      "Python is a good language\n"
     ]
    }
   ],
   "source": [
    "print(s)"
   ]
  },
  {
   "cell_type": "code",
   "execution_count": 7,
   "metadata": {},
   "outputs": [
    {
     "name": "stdout",
     "output_type": "stream",
     "text": [
      "helloworld 12 hey who are you\n"
     ]
    }
   ],
   "source": [
    "print(\"helloworld\",12,\"hey\",\"who are you\")"
   ]
  },
  {
   "cell_type": "markdown",
   "metadata": {},
   "source": [
    "## Concatenation of strings"
   ]
  },
  {
   "cell_type": "code",
   "execution_count": 8,
   "metadata": {},
   "outputs": [
    {
     "name": "stdout",
     "output_type": "stream",
     "text": [
      "Python is a good language Its goof for data science\n"
     ]
    }
   ],
   "source": [
    "v = s + \" \" + t\n",
    "print(v)"
   ]
  },
  {
   "cell_type": "markdown",
   "metadata": {},
   "source": [
    "## Type Casting from integer to string"
   ]
  },
  {
   "cell_type": "code",
   "execution_count": 9,
   "metadata": {},
   "outputs": [
    {
     "name": "stdout",
     "output_type": "stream",
     "text": [
      "The prce of this book is: 12\n",
      "The prce of this book is: 12\n"
     ]
    }
   ],
   "source": [
    "price = 12\n",
    "s = \"The prce of this book\"\n",
    "v = s + ' is: ' + str(price)\n",
    "print(v)\n",
    "print(s,\"is:\",price)"
   ]
  },
  {
   "cell_type": "markdown",
   "metadata": {},
   "source": [
    "# Module 3"
   ]
  },
  {
   "cell_type": "code",
   "execution_count": null,
   "metadata": {},
   "outputs": [],
   "source": []
  },
  {
   "cell_type": "markdown",
   "metadata": {},
   "source": [
    "# Module 4 - Numpy Interduction"
   ]
  },
  {
   "cell_type": "code",
   "execution_count": 10,
   "metadata": {},
   "outputs": [],
   "source": [
    "import numpy as np"
   ]
  },
  {
   "cell_type": "code",
   "execution_count": 11,
   "metadata": {},
   "outputs": [],
   "source": [
    "a = np.array([1,2,3,4,5],dtype= 'i')\n",
    "b = np.array((1,6,3,4,9)) #dtype = 'f'"
   ]
  },
  {
   "cell_type": "code",
   "execution_count": 12,
   "metadata": {},
   "outputs": [
    {
     "name": "stdout",
     "output_type": "stream",
     "text": [
      "[1 2 3 4 5]\n",
      "[1 6 3 4 9]\n"
     ]
    }
   ],
   "source": [
    "print(a)\n",
    "print(b)"
   ]
  },
  {
   "cell_type": "code",
   "execution_count": 13,
   "metadata": {},
   "outputs": [
    {
     "data": {
      "text/plain": [
       "dtype('int32')"
      ]
     },
     "execution_count": 13,
     "metadata": {},
     "output_type": "execute_result"
    }
   ],
   "source": [
    "a.dtype\n"
   ]
  },
  {
   "cell_type": "code",
   "execution_count": 14,
   "metadata": {},
   "outputs": [
    {
     "data": {
      "text/plain": [
       "numpy.ndarray"
      ]
     },
     "execution_count": 14,
     "metadata": {},
     "output_type": "execute_result"
    }
   ],
   "source": [
    "type(a)"
   ]
  },
  {
   "cell_type": "markdown",
   "metadata": {},
   "source": [
    "# NumPy(Dimensions)"
   ]
  },
  {
   "cell_type": "code",
   "execution_count": 15,
   "metadata": {},
   "outputs": [
    {
     "name": "stdout",
     "output_type": "stream",
     "text": [
      "2\n"
     ]
    }
   ],
   "source": [
    "a = np.array([[1,2,3], [4,5,6]])\n",
    "print(a.ndim)"
   ]
  },
  {
   "cell_type": "code",
   "execution_count": 16,
   "metadata": {},
   "outputs": [
    {
     "data": {
      "text/plain": [
       "np.int64(1)"
      ]
     },
     "execution_count": 16,
     "metadata": {},
     "output_type": "execute_result"
    }
   ],
   "source": [
    "a[0,0]"
   ]
  },
  {
   "cell_type": "code",
   "execution_count": 17,
   "metadata": {},
   "outputs": [],
   "source": [
    "b = np.array([[1,2,3,1],[2,4,5,9]])"
   ]
  },
  {
   "cell_type": "code",
   "execution_count": 18,
   "metadata": {},
   "outputs": [
    {
     "data": {
      "text/plain": [
       "np.int64(5)"
      ]
     },
     "execution_count": 18,
     "metadata": {},
     "output_type": "execute_result"
    }
   ],
   "source": [
    "b[1,2]"
   ]
  },
  {
   "cell_type": "code",
   "execution_count": 19,
   "metadata": {},
   "outputs": [],
   "source": [
    "c = np.array([[[1,2,3],[4,5,6],[0,0,-1]],[[-1,-2,-3],[-4,-5,-6],[0,0,1]]])"
   ]
  },
  {
   "cell_type": "code",
   "execution_count": 20,
   "metadata": {},
   "outputs": [
    {
     "data": {
      "text/plain": [
       "3"
      ]
     },
     "execution_count": 20,
     "metadata": {},
     "output_type": "execute_result"
    }
   ],
   "source": [
    "c.ndim"
   ]
  },
  {
   "cell_type": "code",
   "execution_count": 21,
   "metadata": {},
   "outputs": [
    {
     "data": {
      "text/plain": [
       "np.int64(-3)"
      ]
     },
     "execution_count": 21,
     "metadata": {},
     "output_type": "execute_result"
    }
   ],
   "source": [
    "c[1,0,2]"
   ]
  },
  {
   "cell_type": "markdown",
   "metadata": {},
   "source": [
    "# Numpy(Shape,Size and Bytes)"
   ]
  },
  {
   "cell_type": "code",
   "execution_count": 22,
   "metadata": {},
   "outputs": [
    {
     "data": {
      "text/plain": [
       "2"
      ]
     },
     "execution_count": 22,
     "metadata": {},
     "output_type": "execute_result"
    }
   ],
   "source": [
    "c.shape[0]"
   ]
  },
  {
   "cell_type": "code",
   "execution_count": 23,
   "metadata": {},
   "outputs": [
    {
     "data": {
      "text/plain": [
       "1"
      ]
     },
     "execution_count": 23,
     "metadata": {},
     "output_type": "execute_result"
    }
   ],
   "source": [
    "a = np.array([2])\n",
    "a.ndim"
   ]
  },
  {
   "cell_type": "code",
   "execution_count": 24,
   "metadata": {},
   "outputs": [
    {
     "data": {
      "text/plain": [
       "0"
      ]
     },
     "execution_count": 24,
     "metadata": {},
     "output_type": "execute_result"
    }
   ],
   "source": [
    "b = np.array(3)\n",
    "b.ndim"
   ]
  },
  {
   "cell_type": "markdown",
   "metadata": {},
   "source": [
    "# Size"
   ]
  },
  {
   "cell_type": "code",
   "execution_count": 25,
   "metadata": {},
   "outputs": [
    {
     "data": {
      "text/plain": [
       "18"
      ]
     },
     "execution_count": 25,
     "metadata": {},
     "output_type": "execute_result"
    }
   ],
   "source": [
    "c.size"
   ]
  },
  {
   "cell_type": "code",
   "execution_count": 26,
   "metadata": {},
   "outputs": [
    {
     "data": {
      "text/plain": [
       "144"
      ]
     },
     "execution_count": 26,
     "metadata": {},
     "output_type": "execute_result"
    }
   ],
   "source": [
    "c.nbytes"
   ]
  },
  {
   "cell_type": "code",
   "execution_count": 27,
   "metadata": {},
   "outputs": [
    {
     "name": "stdout",
     "output_type": "stream",
     "text": [
      "[ 0  1  2  3  4  5  6  7  8  9 10 11 12 13 14 15 16 17 18 19 20 21 22 23\n",
      " 24 25 26 27 28 29 30 31 32 33 34 35 36 37 38 39 40 41 42 43 44 45 46 47\n",
      " 48 49 50 51 52 53 54 55 56 57 58 59 60 61 62 63 64 65 66 67 68 69 70 71\n",
      " 72 73 74 75 76 77 78 79 80 81 82 83 84 85 86 87 88 89 90 91 92 93 94 95\n",
      " 96 97 98 99]\n"
     ]
    }
   ],
   "source": [
    "a = np.arange(100)\n",
    "print(a)"
   ]
  },
  {
   "cell_type": "code",
   "execution_count": 28,
   "metadata": {},
   "outputs": [
    {
     "name": "stdout",
     "output_type": "stream",
     "text": [
      "[20 21 22 23 24 25 26 27 28 29 30 31 32 33 34 35 36 37 38 39 40 41 42 43\n",
      " 44 45 46 47 48 49 50 51 52 53 54 55 56 57 58 59 60 61 62 63 64 65 66 67\n",
      " 68 69 70 71 72 73 74 75 76 77 78 79 80 81 82 83 84 85 86 87 88 89 90 91\n",
      " 92 93 94 95 96 97 98 99]\n"
     ]
    }
   ],
   "source": [
    "a = np.arange(20,100)\n",
    "print(a)"
   ]
  },
  {
   "cell_type": "code",
   "execution_count": 29,
   "metadata": {},
   "outputs": [
    {
     "name": "stdout",
     "output_type": "stream",
     "text": [
      "[20 23 26 29 32 35 38 41 44 47 50 53 56 59 62 65 68 71 74 77 80 83 86 89\n",
      " 92 95 98]\n"
     ]
    }
   ],
   "source": [
    "a = np.arange(20,100,3)\n",
    "print(a)"
   ]
  },
  {
   "cell_type": "code",
   "execution_count": 30,
   "metadata": {},
   "outputs": [
    {
     "name": "stdout",
     "output_type": "stream",
     "text": [
      "[0, 1, 2, 3, 4, 5, 6, 7, 8, 9]\n"
     ]
    }
   ],
   "source": [
    "print(list(range(10)))"
   ]
  },
  {
   "cell_type": "markdown",
   "metadata": {},
   "source": [
    "# Random"
   ]
  },
  {
   "cell_type": "code",
   "execution_count": 31,
   "metadata": {},
   "outputs": [
    {
     "name": "stdout",
     "output_type": "stream",
     "text": [
      "[3 2 8 9 5 6 0 1 4 7]\n"
     ]
    }
   ],
   "source": [
    "a = np.random.permutation(np.arange(10))\n",
    "print(a)"
   ]
  },
  {
   "cell_type": "code",
   "execution_count": 32,
   "metadata": {},
   "outputs": [
    {
     "data": {
      "text/plain": [
       "21"
      ]
     },
     "execution_count": 32,
     "metadata": {},
     "output_type": "execute_result"
    }
   ],
   "source": [
    "np.random.randint(20,30)    #type(variable) - int"
   ]
  },
  {
   "cell_type": "markdown",
   "metadata": {},
   "source": [
    "# reshape"
   ]
  },
  {
   "cell_type": "code",
   "execution_count": 33,
   "metadata": {},
   "outputs": [],
   "source": [
    "a = np.random.rand(1000)"
   ]
  },
  {
   "cell_type": "code",
   "execution_count": 34,
   "metadata": {},
   "outputs": [
    {
     "data": {
      "text/plain": [
       "array([4.88740981e-01, 4.57087837e-01, 3.64060614e-01, 9.88648158e-01,\n",
       "       9.26477352e-01, 8.56593204e-01, 9.92793140e-01, 7.33685055e-01,\n",
       "       7.93728616e-01, 6.31311388e-01, 3.64243783e-01, 6.10579837e-01,\n",
       "       8.79543193e-01, 6.91062165e-02, 2.38709155e-01, 6.88777730e-01,\n",
       "       1.78627590e-02, 8.01248771e-01, 8.64783809e-01, 5.85085424e-01,\n",
       "       8.78607439e-01, 6.63652877e-01, 5.14381809e-01, 9.21745605e-01,\n",
       "       5.82038734e-01, 6.88323895e-01, 9.55457192e-01, 1.40544886e-01,\n",
       "       4.60710046e-01, 6.97246093e-01, 9.57281852e-01, 5.54121339e-01,\n",
       "       7.61224075e-01, 3.08751937e-01, 8.98670612e-01, 2.39644670e-02,\n",
       "       3.85094454e-01, 9.67066795e-01, 4.64119502e-01, 9.36118202e-01,\n",
       "       5.33799142e-01, 9.00032783e-01, 4.79610557e-01, 9.31118665e-02,\n",
       "       6.29004783e-01, 5.68568525e-01, 5.28805828e-02, 6.05838768e-01,\n",
       "       4.59019862e-01, 5.06337606e-01, 8.08014005e-01, 8.23003184e-01,\n",
       "       9.70874634e-01, 3.42827096e-01, 5.19847574e-01, 7.76419093e-02,\n",
       "       4.30246253e-01, 5.60982055e-01, 1.59143487e-01, 4.88437540e-01,\n",
       "       7.52297510e-01, 2.17459437e-01, 3.36267692e-02, 6.50406347e-01,\n",
       "       2.17625863e-01, 8.17609312e-01, 2.67936388e-01, 5.58421826e-01,\n",
       "       7.15816406e-01, 7.21807682e-01, 1.14906016e-01, 1.77070399e-01,\n",
       "       4.80607687e-01, 5.70465800e-01, 3.26738085e-01, 2.37540940e-01,\n",
       "       8.64905030e-01, 5.91079808e-01, 9.46179865e-01, 7.81133168e-01,\n",
       "       1.34988659e-01, 6.90564453e-01, 4.78022008e-01, 7.27505483e-01,\n",
       "       6.22775998e-02, 9.70980580e-03, 7.68718625e-01, 8.11859549e-01,\n",
       "       7.05931488e-01, 4.70564250e-01, 4.47607074e-01, 5.85909607e-01,\n",
       "       2.19338668e-01, 6.62091949e-01, 2.96307901e-03, 7.04453798e-01,\n",
       "       2.78758005e-01, 6.05224955e-01, 8.58439064e-02, 7.58872561e-01,\n",
       "       2.09582894e-01, 6.62833632e-01, 6.68000579e-01, 2.11013713e-01,\n",
       "       2.49499361e-01, 3.05926667e-01, 3.99598040e-01, 5.51520474e-01,\n",
       "       3.05155506e-01, 5.38081312e-01, 4.06441679e-01, 5.76470855e-01,\n",
       "       2.39414156e-01, 7.18474795e-01, 9.56828849e-01, 7.12053584e-01,\n",
       "       3.40835801e-02, 8.47122881e-01, 9.05630228e-01, 5.88065220e-01,\n",
       "       9.15898303e-02, 6.22727473e-01, 6.96842786e-01, 2.91369587e-01,\n",
       "       7.76819623e-01, 3.25792159e-01, 4.73532272e-01, 5.67661326e-01,\n",
       "       7.39971054e-01, 4.95005692e-01, 3.11466043e-01, 2.42527484e-01,\n",
       "       8.49930079e-01, 6.29307874e-01, 3.60338157e-01, 9.68458183e-01,\n",
       "       8.94611571e-01, 7.02734042e-01, 5.06858693e-01, 5.62723396e-01,\n",
       "       7.95729467e-01, 2.82296720e-01, 8.80172647e-01, 2.17464851e-01,\n",
       "       7.52985596e-01, 1.38099952e-01, 3.45616538e-01, 2.99240400e-01,\n",
       "       5.97085516e-01, 9.99646986e-01, 8.28846579e-02, 2.63485256e-01,\n",
       "       2.82090222e-01, 5.89078061e-01, 2.53686347e-01, 7.39585260e-01,\n",
       "       2.85834421e-01, 6.71731865e-01, 1.20606070e-01, 6.09638903e-01,\n",
       "       4.48494405e-01, 4.82192452e-01, 8.92420022e-01, 7.20096072e-01,\n",
       "       4.34525589e-01, 8.40013603e-01, 4.11127669e-01, 7.66009450e-01,\n",
       "       8.61267844e-01, 3.50212720e-01, 8.63293435e-02, 3.68308826e-01,\n",
       "       2.20167131e-01, 1.55876299e-01, 6.97694717e-01, 5.37391905e-01,\n",
       "       5.89165797e-01, 5.81544773e-01, 8.47214008e-01, 3.63140656e-01,\n",
       "       1.32308928e-01, 6.85022568e-01, 1.96963051e-01, 9.49234273e-01,\n",
       "       6.06959588e-01, 2.55851816e-01, 8.75669899e-02, 6.08302229e-01,\n",
       "       6.22780893e-01, 2.24746300e-01, 7.16816675e-02, 2.70052850e-01,\n",
       "       1.25554084e-01, 5.05957608e-01, 4.57090499e-01, 9.33184351e-02,\n",
       "       5.76152341e-01, 7.28882081e-01, 7.61255332e-01, 8.59737104e-02,\n",
       "       1.96628379e-01, 2.80563818e-01, 6.18414626e-01, 5.10248705e-01,\n",
       "       8.24786401e-01, 2.44912714e-01, 2.04598102e-01, 6.01462016e-01,\n",
       "       7.09396653e-01, 9.35801982e-01, 5.38654483e-01, 1.90691332e-01,\n",
       "       8.78633518e-01, 2.93828499e-01, 8.38147395e-01, 4.69294692e-01,\n",
       "       3.88742795e-01, 8.16753027e-01, 1.40743648e-01, 3.79928148e-01,\n",
       "       9.03900068e-01, 3.31978213e-01, 7.99592256e-01, 4.13323754e-01,\n",
       "       6.17155647e-01, 9.77108984e-01, 9.37910575e-01, 9.26231614e-01,\n",
       "       2.92730418e-01, 7.29883558e-01, 4.92712091e-01, 5.88699425e-01,\n",
       "       8.49152623e-01, 5.60105436e-01, 8.59729747e-01, 3.42192071e-01,\n",
       "       5.66557535e-01, 2.33829003e-01, 5.95274281e-01, 1.50905222e-01,\n",
       "       7.49462642e-01, 6.70461079e-01, 5.39804193e-01, 3.16143690e-01,\n",
       "       9.78803351e-01, 6.86921036e-01, 4.60167494e-01, 3.21659549e-02,\n",
       "       8.59440278e-01, 7.77968403e-02, 4.52363053e-02, 2.79500728e-01,\n",
       "       1.74201062e-01, 8.50989394e-01, 3.77241676e-01, 9.56549944e-01,\n",
       "       2.59843547e-02, 8.76668646e-01, 7.59624584e-01, 9.34616467e-01,\n",
       "       9.21548374e-01, 1.88974383e-01, 6.30058253e-01, 8.42741571e-01,\n",
       "       7.03786182e-01, 3.22205195e-02, 8.19079264e-02, 4.98153074e-01,\n",
       "       8.52439641e-02, 3.99218559e-01, 3.47954154e-01, 6.61798109e-01,\n",
       "       2.04052761e-01, 6.65231034e-01, 7.26424523e-01, 4.68203283e-01,\n",
       "       1.40695968e-02, 4.45348859e-01, 2.76772291e-01, 1.11588190e-01,\n",
       "       3.79572542e-01, 3.61814788e-01, 3.38357786e-01, 3.19633695e-01,\n",
       "       1.73359282e-01, 3.49509203e-01, 6.56528287e-01, 7.13698060e-01,\n",
       "       9.61475325e-01, 5.09760794e-01, 3.37369793e-01, 5.61040950e-01,\n",
       "       3.23363730e-01, 6.72088411e-01, 3.12229557e-01, 9.77958070e-01,\n",
       "       9.30811962e-01, 7.99587050e-01, 7.46551397e-01, 8.58838941e-01,\n",
       "       9.44502269e-01, 4.40212252e-01, 4.67235236e-01, 9.46467073e-01,\n",
       "       6.11708602e-01, 5.58173746e-01, 9.76420209e-01, 8.94634396e-01,\n",
       "       1.90835168e-01, 1.39779214e-01, 7.60196119e-01, 8.14830949e-01,\n",
       "       8.55421045e-01, 9.07031827e-01, 7.07807372e-01, 5.69439987e-02,\n",
       "       8.79413197e-01, 3.52588652e-03, 4.47857101e-01, 7.14275365e-01,\n",
       "       7.48370556e-01, 5.72096157e-01, 7.78544236e-01, 9.45695583e-01,\n",
       "       4.58023711e-02, 5.25821129e-01, 9.36926001e-02, 3.92133309e-01,\n",
       "       8.23909953e-01, 6.65376188e-02, 9.46223218e-01, 7.04322798e-01,\n",
       "       3.01294179e-01, 2.49779667e-01, 8.62454191e-01, 7.57230252e-01,\n",
       "       7.83470480e-01, 1.20390123e-01, 4.17340699e-01, 1.84568075e-01,\n",
       "       2.72003867e-01, 1.77502252e-01, 3.71691700e-01, 9.06654248e-01,\n",
       "       1.03453561e-01, 3.60366439e-01, 3.40208817e-01, 1.31221655e-01,\n",
       "       9.36461806e-01, 9.51432132e-01, 2.52204521e-01, 9.76436256e-01,\n",
       "       5.53355099e-01, 1.74213262e-01, 7.68296215e-02, 1.61455418e-01,\n",
       "       1.67748606e-01, 7.19257911e-01, 9.10987124e-01, 4.79262035e-01,\n",
       "       3.87342383e-02, 3.17240514e-01, 6.44275264e-02, 7.59183083e-01,\n",
       "       4.06464582e-04, 4.89269842e-01, 2.86947875e-01, 4.00756351e-01,\n",
       "       4.49248749e-01, 2.46742991e-01, 6.57874699e-02, 2.08627608e-01,\n",
       "       7.10947416e-01, 1.54255599e-01, 3.13288567e-01, 8.42622122e-01,\n",
       "       9.44251450e-01, 2.14203553e-01, 2.92715120e-01, 7.83930568e-01,\n",
       "       9.17274817e-02, 6.38703766e-01, 8.89435128e-01, 2.71116987e-02,\n",
       "       4.45161442e-01, 7.62188825e-01, 4.93714533e-01, 9.66968513e-01,\n",
       "       4.34241216e-01, 5.35954939e-01, 6.84886369e-01, 4.58090009e-02,\n",
       "       3.85234861e-01, 1.70831436e-01, 7.16076213e-01, 1.16576311e-01,\n",
       "       2.03179158e-01, 6.68177543e-01, 9.37523775e-01, 2.25749547e-01,\n",
       "       5.23082470e-01, 9.13796974e-01, 6.02273859e-01, 1.31150335e-01,\n",
       "       7.94231848e-01, 3.47423133e-01, 3.99444049e-01, 9.83159793e-01,\n",
       "       3.01846681e-01, 8.87900536e-01, 6.17535627e-01, 3.08946953e-01,\n",
       "       3.60924752e-01, 4.06063212e-01, 1.93947752e-01, 7.59617508e-01,\n",
       "       9.23730148e-01, 8.06376926e-01, 3.37386300e-01, 7.46892103e-02,\n",
       "       1.06227267e-01, 9.44827096e-01, 4.91885420e-01, 3.35227156e-01,\n",
       "       8.82403568e-01, 6.76567395e-03, 9.22119410e-02, 9.53108248e-01,\n",
       "       9.34149174e-01, 1.71190162e-01, 7.07985174e-01, 3.58547201e-01,\n",
       "       5.95408132e-01, 1.30343467e-01, 4.44276590e-01, 8.95935820e-01,\n",
       "       1.00066472e-01, 4.51527981e-02, 9.77439072e-02, 6.61222132e-01,\n",
       "       5.41684118e-01, 2.98409029e-01, 1.21626142e-01, 8.98906214e-01,\n",
       "       5.47784919e-01, 7.08933963e-01, 6.83529113e-01, 1.48277546e-01,\n",
       "       7.32780228e-01, 8.44304372e-01, 1.42818862e-01, 9.52038606e-01,\n",
       "       7.60534238e-01, 8.21239299e-01, 3.81646637e-01, 7.36264413e-01,\n",
       "       2.68946675e-01, 4.90131621e-01, 6.50769725e-01, 6.92102475e-02,\n",
       "       5.05117581e-01, 2.26567325e-01, 6.69567318e-01, 5.06759107e-01,\n",
       "       7.18638208e-01, 6.33752645e-01, 8.49987014e-01, 8.18172890e-01,\n",
       "       9.41865808e-01, 4.31303362e-02, 9.22643970e-02, 3.03680310e-01,\n",
       "       7.35202970e-01, 7.51046309e-01, 2.25738366e-01, 7.34088890e-01,\n",
       "       2.31591453e-01, 2.05994999e-01, 6.99882286e-01, 8.76371844e-01,\n",
       "       8.16290202e-01, 1.10865597e-01, 1.65298535e-01, 5.42087808e-01,\n",
       "       1.30564017e-01, 5.52872625e-01, 1.71242607e-01, 1.76722328e-01,\n",
       "       1.03224941e-01, 6.58580510e-01, 5.93051749e-01, 6.31104823e-01,\n",
       "       2.72342887e-01, 5.53787019e-02, 7.99901445e-01, 3.46937929e-01,\n",
       "       9.05662754e-01, 3.90438381e-01, 5.53717361e-01, 6.34547967e-01,\n",
       "       8.90807467e-01, 7.35019453e-01, 8.17096643e-01, 7.94222838e-01,\n",
       "       7.34217280e-01, 6.39949894e-02, 7.88097894e-01, 7.90469671e-01,\n",
       "       3.24538534e-01, 8.06233994e-01, 5.51933082e-01, 5.06336952e-01,\n",
       "       5.27979145e-01, 1.61364012e-01, 9.68229425e-01, 1.82865516e-01,\n",
       "       9.95148959e-01, 7.22162114e-01, 8.73966771e-03, 8.44688313e-01,\n",
       "       4.84565051e-01, 4.83286520e-01, 1.16584574e-01, 1.90285653e-01,\n",
       "       4.54670052e-01, 3.29827483e-01, 7.98490674e-01, 6.07410576e-01,\n",
       "       6.86703891e-01, 8.91396751e-01, 6.40249000e-01, 4.37723571e-01,\n",
       "       2.94068252e-01, 4.56721110e-01, 9.91078791e-01, 5.86709286e-01,\n",
       "       9.21501214e-01, 9.48199880e-01, 1.87648877e-02, 5.28386151e-01,\n",
       "       7.40584492e-01, 2.00859685e-01, 8.76166230e-01, 8.90622074e-01,\n",
       "       8.69577550e-01, 5.78865928e-01, 6.14596718e-01, 2.25162446e-01,\n",
       "       7.74205386e-02, 6.59100617e-01, 5.19108996e-01, 7.75156158e-01,\n",
       "       5.22229494e-01, 6.33063493e-01, 1.35799559e-01, 9.62206028e-01,\n",
       "       6.89521611e-01, 6.19433989e-01, 3.12670411e-01, 9.92512491e-01,\n",
       "       6.34809964e-01, 5.80343841e-01, 5.28474820e-01, 4.45936921e-01,\n",
       "       3.08725509e-01, 9.73196253e-01, 3.22485138e-01, 5.30433214e-02,\n",
       "       4.23027589e-01, 5.22241005e-01, 3.58924436e-01, 1.52855511e-01,\n",
       "       1.23947227e-01, 1.84182801e-02, 2.71264410e-01, 1.35616900e-01,\n",
       "       1.32759637e-01, 1.32109640e-01, 4.60603267e-01, 6.91827186e-01,\n",
       "       3.48842350e-01, 9.12938970e-01, 5.67436018e-01, 2.70571280e-01,\n",
       "       1.44777676e-01, 7.85285434e-01, 3.21142613e-02, 3.35810965e-01,\n",
       "       8.80175508e-01, 3.63600641e-01, 8.01937981e-01, 2.76633849e-01,\n",
       "       4.92553763e-01, 4.17270735e-01, 1.42979269e-01, 6.55225537e-01,\n",
       "       9.41016866e-01, 7.56244246e-01, 8.49071692e-01, 3.00143173e-02,\n",
       "       4.84346798e-01, 6.96490243e-01, 7.67669628e-01, 8.98893403e-01,\n",
       "       7.72354884e-01, 4.21948161e-01, 3.26181586e-01, 6.33932844e-01,\n",
       "       4.80456188e-01, 9.16643443e-01, 9.64764357e-01, 1.60058994e-01,\n",
       "       5.61093990e-02, 5.36657118e-01, 3.70284423e-01, 5.11877717e-01,\n",
       "       1.56356009e-01, 7.04459615e-01, 4.07886007e-01, 5.86303651e-01,\n",
       "       9.55618049e-01, 4.80600196e-01, 2.54215130e-01, 4.21895455e-01,\n",
       "       9.88209035e-01, 6.74779643e-01, 7.16519881e-01, 1.60830418e-01,\n",
       "       1.89178617e-02, 6.30087577e-01, 1.62641845e-02, 2.63276814e-01,\n",
       "       2.96101807e-01, 4.32944709e-01, 1.95355803e-01, 7.49366960e-01,\n",
       "       6.01421847e-01, 3.24269756e-02, 5.69682035e-01, 2.26583630e-01,\n",
       "       3.32908497e-01, 3.61154197e-02, 7.21290688e-01, 6.17867562e-01,\n",
       "       2.55067191e-01, 9.62286688e-01, 7.57390626e-01, 9.08352842e-02,\n",
       "       2.36406436e-01, 1.67770699e-01, 3.61222414e-01, 1.70018703e-01,\n",
       "       2.29882483e-01, 4.90054987e-01, 6.19152787e-01, 5.60575180e-01,\n",
       "       1.38913669e-01, 5.94139591e-01, 7.63528829e-01, 8.87360696e-01,\n",
       "       1.90660172e-01, 4.43030761e-01, 8.59829276e-01, 5.36446996e-01,\n",
       "       4.10976511e-01, 7.32393324e-01, 5.73022749e-01, 6.59959617e-01,\n",
       "       5.01301195e-01, 3.97236208e-01, 7.84750834e-01, 6.41390057e-01,\n",
       "       4.80627975e-02, 9.39496036e-01, 5.68830769e-01, 7.67377854e-01,\n",
       "       7.21808107e-01, 9.63547653e-01, 9.49584979e-01, 8.09958061e-01,\n",
       "       1.45365105e-01, 1.47601750e-01, 4.47611566e-01, 9.42674758e-01,\n",
       "       8.91452483e-01, 3.51586312e-01, 1.96389053e-01, 9.87247207e-02,\n",
       "       7.21202006e-02, 4.35634559e-01, 7.12170169e-01, 9.31950718e-01,\n",
       "       3.91756418e-01, 6.99252666e-01, 8.82492801e-01, 6.86017124e-01,\n",
       "       8.80686930e-01, 3.07768632e-01, 5.52334096e-01, 1.17523120e-01,\n",
       "       5.76006602e-02, 3.82843646e-01, 3.14855438e-01, 9.54809676e-02,\n",
       "       7.23980485e-01, 1.22633072e-01, 7.77429130e-01, 2.35898865e-01,\n",
       "       2.77819642e-01, 6.35757676e-01, 2.91204672e-01, 8.04736538e-01,\n",
       "       1.76544279e-01, 3.74042548e-01, 3.65068711e-01, 1.31031136e-01,\n",
       "       8.73776233e-01, 8.47514650e-02, 1.70171899e-01, 9.82082859e-02,\n",
       "       6.36165048e-01, 6.81751004e-01, 1.07877782e-01, 8.71854445e-01,\n",
       "       6.76038792e-01, 3.32544282e-01, 3.33609688e-01, 7.34031274e-01,\n",
       "       5.00445934e-01, 3.15338288e-01, 1.43246346e-01, 5.17320421e-01,\n",
       "       8.18026519e-01, 4.98977680e-01, 4.76851351e-01, 8.28252371e-01,\n",
       "       1.43308296e-01, 2.91758884e-01, 7.07738449e-01, 6.03832961e-01,\n",
       "       5.10998599e-01, 8.19339674e-01, 1.98777115e-01, 7.12873170e-02,\n",
       "       2.31322324e-01, 5.36048321e-01, 3.45089829e-01, 8.73537787e-02,\n",
       "       8.98152999e-01, 3.17309059e-01, 8.43180935e-01, 5.90120140e-01,\n",
       "       8.75413375e-01, 6.19162314e-01, 1.97595833e-01, 3.85570024e-01,\n",
       "       8.34057784e-01, 4.63591897e-01, 3.85602626e-01, 1.20599605e-01,\n",
       "       8.97859154e-01, 5.29973192e-01, 2.43337614e-01, 5.13628791e-01,\n",
       "       3.26441222e-01, 2.95528365e-01, 8.91585345e-01, 1.00973576e-01,\n",
       "       6.02158802e-01, 9.64568111e-01, 4.78164054e-01, 1.22530417e-01,\n",
       "       3.05130216e-01, 2.40534395e-01, 7.07889374e-01, 3.33420317e-01,\n",
       "       4.94538744e-01, 7.88466375e-01, 8.29605088e-01, 5.46567413e-01,\n",
       "       5.07882064e-01, 7.33393371e-01, 1.45452137e-01, 6.23600654e-01,\n",
       "       3.71744660e-01, 2.85856219e-01, 6.58453137e-02, 9.97664584e-01,\n",
       "       9.93285765e-01, 1.74811441e-01, 2.87994040e-01, 9.43219517e-01,\n",
       "       8.08778219e-02, 3.82836477e-01, 2.98842115e-02, 1.24438237e-01,\n",
       "       4.73904241e-01, 4.98293400e-01, 4.01499931e-01, 4.43850806e-01,\n",
       "       1.57315272e-01, 4.56817747e-01, 5.03808653e-01, 7.56908282e-02,\n",
       "       3.10823018e-01, 1.19842842e-01, 9.83167581e-01, 4.15654186e-01,\n",
       "       9.09514778e-01, 5.81239216e-01, 4.27251247e-02, 9.77542711e-01,\n",
       "       9.50378659e-01, 9.26700333e-01, 9.54466645e-02, 8.32530156e-01,\n",
       "       6.61527556e-01, 6.85316460e-01, 8.32820659e-01, 7.99756209e-01,\n",
       "       8.58949938e-01, 2.44872909e-01, 5.12170321e-01, 5.42735492e-02,\n",
       "       9.17182413e-01, 2.09154672e-01, 3.92333774e-01, 2.53452218e-01,\n",
       "       9.13170918e-01, 2.83931722e-01, 3.94813853e-01, 8.62622550e-01,\n",
       "       7.09003921e-01, 7.46895635e-01, 4.68654889e-01, 9.96747054e-01,\n",
       "       1.98082014e-01, 5.16559946e-03, 2.82150657e-02, 3.63414971e-01,\n",
       "       1.73976970e-01, 3.77115221e-01, 6.92974979e-02, 2.79027236e-01,\n",
       "       7.54703707e-01, 1.19361239e-01, 3.66064833e-01, 6.90086541e-01,\n",
       "       7.63874369e-01, 6.82978854e-01, 9.66832367e-01, 8.27831513e-01,\n",
       "       5.21330932e-01, 9.81465989e-01, 8.26028474e-01, 5.48876935e-01,\n",
       "       5.64060141e-01, 7.23141597e-01, 6.96457755e-01, 6.75431317e-03,\n",
       "       6.16247614e-02, 6.52893799e-01, 1.72071454e-01, 7.97057951e-01,\n",
       "       1.08810163e-01, 4.36354917e-02, 3.11688584e-01, 4.44421082e-01,\n",
       "       5.77127793e-01, 3.01606714e-01, 5.52662045e-02, 1.77212007e-01,\n",
       "       7.65073999e-01, 3.61245701e-01, 4.20393743e-01, 4.86700844e-01,\n",
       "       1.80424515e-01, 4.46735172e-01, 2.95212344e-01, 1.60456138e-01,\n",
       "       7.59611081e-01, 6.20345887e-01, 3.98158430e-01, 8.48779171e-01,\n",
       "       6.73465229e-01, 6.98778785e-01, 7.58414754e-01, 1.41504019e-01,\n",
       "       3.23479611e-01, 3.15442267e-01, 1.60847840e-01, 8.24433727e-01,\n",
       "       8.59476776e-01, 9.22499259e-01, 1.52710488e-01, 5.19103636e-01,\n",
       "       1.96868770e-01, 2.77933852e-01, 1.00024644e-02, 7.54767888e-01,\n",
       "       7.48539748e-01, 9.81679638e-01, 9.44625292e-01, 4.69199115e-01,\n",
       "       5.00209402e-01, 1.27228696e-01, 2.84090894e-01, 6.72683752e-01,\n",
       "       2.81699914e-01, 4.47860225e-01, 5.70170966e-02, 4.08486927e-02,\n",
       "       7.33484028e-01, 5.98072861e-01, 2.77665623e-01, 4.23348653e-01,\n",
       "       8.82510340e-01, 4.66105988e-01, 3.33852873e-01, 9.14655925e-01,\n",
       "       1.02041806e-01, 3.73588612e-01, 7.31264967e-01, 9.87134573e-01,\n",
       "       5.83186036e-01, 1.71818138e-01, 5.04336489e-01, 2.08688434e-01,\n",
       "       8.18976460e-01, 8.66163947e-02, 2.46761943e-01, 3.40168786e-01,\n",
       "       2.82075659e-01, 7.47867655e-02, 3.86119190e-01, 5.67179887e-01,\n",
       "       7.42100653e-02, 5.61874074e-01, 6.90876475e-01, 4.94218568e-01,\n",
       "       1.69023039e-01, 5.95943087e-01, 5.00741906e-01, 4.78484765e-01,\n",
       "       9.15733837e-01, 8.00596802e-01, 3.57238163e-01, 8.07682153e-01,\n",
       "       1.99082823e-01, 6.79278313e-02, 6.74882908e-03, 7.39539012e-02,\n",
       "       1.25034331e-01, 4.00718819e-01, 9.26627128e-01, 3.10183167e-01,\n",
       "       5.95585976e-01, 6.69758742e-01, 9.21793264e-01, 9.56223025e-01,\n",
       "       7.67652227e-01, 7.79131043e-02, 7.03932672e-01, 8.25735921e-01,\n",
       "       7.12676602e-01, 7.21498019e-01, 6.16280232e-01, 1.04622426e-01,\n",
       "       9.30093956e-02, 6.25535388e-01, 1.38515114e-02, 6.10042552e-01,\n",
       "       6.10444143e-02, 9.88181196e-01, 6.23036419e-01, 2.14363903e-01,\n",
       "       8.78430029e-01, 2.56714078e-01, 5.71809161e-01, 8.94209487e-01,\n",
       "       3.79487466e-01, 5.87909775e-01, 3.77035101e-01, 8.62209560e-01,\n",
       "       7.61764090e-01, 4.65135815e-03, 4.37445532e-01, 1.45383913e-02,\n",
       "       8.23000318e-01, 7.35373301e-01, 2.21492320e-01, 8.89735285e-01,\n",
       "       8.24889559e-01, 5.72555016e-01, 4.87912824e-01, 6.30450543e-01,\n",
       "       7.22792437e-01, 2.14809312e-02, 2.07065524e-01, 8.03404979e-01])"
      ]
     },
     "execution_count": 34,
     "metadata": {},
     "output_type": "execute_result"
    }
   ],
   "source": [
    "a"
   ]
  },
  {
   "cell_type": "code",
   "execution_count": 35,
   "metadata": {},
   "outputs": [],
   "source": [
    "a = np.random.rand(1000)"
   ]
  },
  {
   "cell_type": "code",
   "execution_count": 36,
   "metadata": {},
   "outputs": [
    {
     "data": {
      "text/plain": [
       "(array([12., 11.,  7., 15.,  6.,  7., 13., 10., 11.,  7., 14., 13., 15.,\n",
       "        10., 10., 10., 12., 12., 11., 14.,  9.,  9.,  9., 13.,  5., 11.,\n",
       "        10.,  8.,  9.,  8., 14., 12., 16., 12.,  5.,  5.,  7., 10.,  9.,\n",
       "         8., 12., 11., 13., 10.,  7.,  7.,  6.,  8., 10., 10.,  6., 11.,\n",
       "        12., 16., 12., 14., 12., 12.,  7., 11., 13., 13., 11.,  9.,  9.,\n",
       "        10., 12.,  9.,  6.,  9.,  5., 12., 14.,  5., 12., 13., 12.,  8.,\n",
       "         6., 12., 11., 10.,  7.,  8.,  7.,  9.,  8.,  6.,  9.,  6.,  6.,\n",
       "         4., 16., 12., 11.,  9., 14., 14.,  9.,  8.]),\n",
       " array([0.00109074, 0.01105469, 0.02101864, 0.03098259, 0.04094654,\n",
       "        0.05091049, 0.06087445, 0.0708384 , 0.08080235, 0.0907663 ,\n",
       "        0.10073025, 0.1106942 , 0.12065816, 0.13062211, 0.14058606,\n",
       "        0.15055001, 0.16051396, 0.17047791, 0.18044187, 0.19040582,\n",
       "        0.20036977, 0.21033372, 0.22029767, 0.23026162, 0.24022557,\n",
       "        0.25018953, 0.26015348, 0.27011743, 0.28008138, 0.29004533,\n",
       "        0.30000928, 0.30997324, 0.31993719, 0.32990114, 0.33986509,\n",
       "        0.34982904, 0.35979299, 0.36975695, 0.3797209 , 0.38968485,\n",
       "        0.3996488 , 0.40961275, 0.4195767 , 0.42954066, 0.43950461,\n",
       "        0.44946856, 0.45943251, 0.46939646, 0.47936041, 0.48932437,\n",
       "        0.49928832, 0.50925227, 0.51921622, 0.52918017, 0.53914412,\n",
       "        0.54910808, 0.55907203, 0.56903598, 0.57899993, 0.58896388,\n",
       "        0.59892783, 0.60889178, 0.61885574, 0.62881969, 0.63878364,\n",
       "        0.64874759, 0.65871154, 0.66867549, 0.67863945, 0.6886034 ,\n",
       "        0.69856735, 0.7085313 , 0.71849525, 0.7284592 , 0.73842316,\n",
       "        0.74838711, 0.75835106, 0.76831501, 0.77827896, 0.78824291,\n",
       "        0.79820687, 0.80817082, 0.81813477, 0.82809872, 0.83806267,\n",
       "        0.84802662, 0.85799058, 0.86795453, 0.87791848, 0.88788243,\n",
       "        0.89784638, 0.90781033, 0.91777429, 0.92773824, 0.93770219,\n",
       "        0.94766614, 0.95763009, 0.96759404, 0.977558  , 0.98752195,\n",
       "        0.9974859 ]),\n",
       " <BarContainer object of 100 artists>)"
      ]
     },
     "execution_count": 36,
     "metadata": {},
     "output_type": "execute_result"
    },
    {
     "data": {
      "image/png": "[encoded data removed]",
      "text/plain": [
       "<Figure size 640x480 with 1 Axes>"
      ]
     },
     "metadata": {},
     "output_type": "display_data"
    }
   ],
   "source": [
    "import matplotlib.pyplot as plt\n",
    "plt.hist(a, bins=100)"
   ]
  },
  {
   "cell_type": "code",
   "execution_count": 37,
   "metadata": {},
   "outputs": [
    {
     "data": {
      "text/plain": [
       "2"
      ]
     },
     "execution_count": 37,
     "metadata": {},
     "output_type": "execute_result"
    }
   ],
   "source": [
    "c = np.random.rand(2,3)\n",
    "c.ndim"
   ]
  },
  {
   "cell_type": "code",
   "execution_count": 38,
   "metadata": {},
   "outputs": [
    {
     "data": {
      "text/plain": [
       "4"
      ]
     },
     "execution_count": 38,
     "metadata": {},
     "output_type": "execute_result"
    }
   ],
   "source": [
    "c = np.random.rand(2,3,4,2)\n",
    "c.ndim"
   ]
  },
  {
   "cell_type": "markdown",
   "metadata": {},
   "source": [
    "# NumPy(Slicing)"
   ]
  },
  {
   "cell_type": "code",
   "execution_count": 42,
   "metadata": {},
   "outputs": [
    {
     "data": {
      "text/plain": [
       "array([0.90184455, 0.04047837, 0.96965188, 0.62301901, 0.55811813,\n",
       "       0.31868522, 0.2093327 , 0.69747521, 0.43780608, 0.41520784,\n",
       "       0.87050852, 0.04623211, 0.15583158, 0.55538135, 0.8031472 ,\n",
       "       0.07661821, 0.29474335, 0.57939085, 0.30313547, 0.64497085,\n",
       "       0.09789351, 0.93748674, 0.94644967, 0.59909383, 0.1949158 ,\n",
       "       0.4709913 , 0.14456908, 0.72049834, 0.92602507, 0.18212748,\n",
       "       0.13668917, 0.21255386, 0.31275131, 0.22740539, 0.60110576,\n",
       "       0.09419704, 0.23308481, 0.48485849, 0.4428968 , 0.75914943,\n",
       "       0.63881704, 0.42068848, 0.89846104, 0.8838714 , 0.02310519,\n",
       "       0.31257957, 0.55207999, 0.06101299, 0.47027278, 0.36184448,\n",
       "       0.84686078, 0.23014049, 0.30036151, 0.54473756, 0.52036265,\n",
       "       0.67462949, 0.26391341, 0.46822784, 0.92085401, 0.86581706,\n",
       "       0.59902629, 0.22468532, 0.67149125, 0.76523993, 0.41553496,\n",
       "       0.57659974, 0.95807817, 0.32110935, 0.52724617, 0.06613216,\n",
       "       0.17872411, 0.62156649, 0.92120896, 0.06682481, 0.28229023,\n",
       "       0.32669045, 0.9806646 , 0.68750694, 0.95251104, 0.72305801,\n",
       "       0.43766452, 0.80129302, 0.00428539, 0.73808535, 0.12578938,\n",
       "       0.21983646, 0.11381718, 0.49118929, 0.06360895, 0.25937951,\n",
       "       0.58089938, 0.40474789, 0.2116187 , 0.27737079, 0.72790677,\n",
       "       0.80890078, 0.63635608, 0.44275604, 0.00442717, 0.12920335,\n",
       "       0.19955475, 0.19678301, 0.32919175, 0.51214531, 0.56157642,\n",
       "       0.32411654, 0.29946168, 0.27050246, 0.04454404, 0.52473262,\n",
       "       0.29465884, 0.3022882 , 0.6025857 , 0.33829191, 0.54770192,\n",
       "       0.87836271, 0.95408471, 0.65663699, 0.20034743, 0.46550421,\n",
       "       0.25724141, 0.14246834, 0.98642695, 0.9660412 , 0.32011353,\n",
       "       0.32653422, 0.19481817, 0.32951597, 0.67836018, 0.3019132 ,\n",
       "       0.10548565, 0.1278417 , 0.84534939, 0.7034802 , 0.59337227,\n",
       "       0.03567746, 0.30830961, 0.06075655, 0.12659352, 0.05380765,\n",
       "       0.87784621, 0.51248134, 0.57805868, 0.23906292, 0.65924723,\n",
       "       0.27811995, 0.35552708, 0.36957399, 0.03581295, 0.03484883,\n",
       "       0.55532446, 0.14036379, 0.23414966, 0.0717283 , 0.3029624 ,\n",
       "       0.40924686, 0.62865688, 0.03131536, 0.21221587, 0.79738499,\n",
       "       0.56406032, 0.40149407, 0.83778932, 0.5188783 , 0.8213687 ,\n",
       "       0.23280428, 0.15208764, 0.79012929, 0.05076681, 0.11459375,\n",
       "       0.6416013 , 0.63467293, 0.17530581, 0.74942402, 0.25528528,\n",
       "       0.86618849, 0.17121073, 0.74047968, 0.08503983, 0.49859433,\n",
       "       0.64673596, 0.6221991 , 0.31326343, 0.60532254, 0.82167129,\n",
       "       0.31635272, 0.12121882, 0.58107175, 0.72098659, 0.58332699,\n",
       "       0.85516204, 0.65400526, 0.53417413, 0.52260087, 0.48577837,\n",
       "       0.03297185, 0.4028723 , 0.24532818, 0.01253238, 0.72677217,\n",
       "       0.34709064, 0.60348329, 0.32216132, 0.06104668, 0.96640981,\n",
       "       0.98998114, 0.43242384, 0.53490705, 0.20735288, 0.11486442,\n",
       "       0.03686252, 0.16402019, 0.20341776, 0.72435729, 0.26640229,\n",
       "       0.42440874, 0.67551425, 0.01807864, 0.28164888, 0.70286849,\n",
       "       0.79670075, 0.57166606, 0.16553294, 0.8991106 , 0.03208624,\n",
       "       0.98985735, 0.73380702, 0.03338868, 0.43318651, 0.31779468,\n",
       "       0.4918145 , 0.13882839, 0.75970905, 0.63003915, 0.53704251,\n",
       "       0.55006016, 0.82380396, 0.785774  , 0.69169801, 0.18531332,\n",
       "       0.85510121, 0.8628502 , 0.97103134, 0.3713501 , 0.02502683,\n",
       "       0.18870716, 0.99059992, 0.20009669, 0.10467986, 0.40449578,\n",
       "       0.54219364, 0.50812029, 0.38135617, 0.09389699, 0.20564986,\n",
       "       0.99077938, 0.56630061, 0.32949698, 0.41256358, 0.6080905 ,\n",
       "       0.80673912, 0.97252819, 0.07639887, 0.23698936, 0.80929309,\n",
       "       0.26086235, 0.12657044, 0.74506136, 0.98721928, 0.85975379,\n",
       "       0.05198368, 0.8937144 , 0.59051086, 0.56927947, 0.84867098,\n",
       "       0.17866127, 0.29577543, 0.42488675, 0.62214101, 0.17333692,\n",
       "       0.03517843, 0.17109985, 0.37952793, 0.93098034, 0.9186896 ,\n",
       "       0.39034571, 0.89814476, 0.347796  , 0.6016083 , 0.79184796,\n",
       "       0.97096626, 0.18442093, 0.7501103 , 0.00844979, 0.529859  ,\n",
       "       0.81852074, 0.80700783, 0.57059696, 0.53773681, 0.28453585,\n",
       "       0.92271914, 0.03920489, 0.47413008, 0.22056593, 0.79306569,\n",
       "       0.03397186, 0.08708953, 0.25471178, 0.97549143, 0.66496508,\n",
       "       0.31981382, 0.26186083, 0.19195821, 0.10900761, 0.74418851,\n",
       "       0.94434465, 0.76572051, 0.08593315, 0.23153936, 0.98061582,\n",
       "       0.71095415, 0.65571644, 0.24188718, 0.62848239, 0.83677346,\n",
       "       0.79290912, 0.10121708, 0.30840572, 0.74771081, 0.53393059,\n",
       "       0.98457688, 0.53198267, 0.88397343, 0.0628991 , 0.45929311,\n",
       "       0.41090432, 0.13809096, 0.92543469, 0.80590491, 0.9974859 ,\n",
       "       0.12711252, 0.10203075, 0.59310684, 0.730273  , 0.71264646,\n",
       "       0.54020708, 0.73956451, 0.62199811, 0.80947037, 0.28039948,\n",
       "       0.46357079, 0.15856597, 0.16506023, 0.66082378, 0.67592083,\n",
       "       0.71093821, 0.51957714, 0.24661405, 0.01202093, 0.33869135,\n",
       "       0.39238514, 0.01416369, 0.82013967, 0.62623119, 0.2639696 ,\n",
       "       0.42527959, 0.77127755, 0.43434988, 0.11377084, 0.46409931,\n",
       "       0.72010914, 0.14052706, 0.01780842, 0.18193611, 0.4831964 ,\n",
       "       0.4911709 , 0.11515687, 0.96429743, 0.33029862, 0.19480748,\n",
       "       0.39861118, 0.94352858, 0.32997856, 0.69066842, 0.66416381,\n",
       "       0.92068583, 0.6078476 , 0.60610349, 0.37912786, 0.33840004,\n",
       "       0.98295638, 0.66747287, 0.19068643, 0.55715679, 0.35797207,\n",
       "       0.98051703, 0.54798605, 0.13951567, 0.44127645, 0.94943873,\n",
       "       0.38199709, 0.5491465 , 0.33684741, 0.65343256, 0.61676621,\n",
       "       0.36014348, 0.58896316, 0.25041341, 0.0726747 , 0.66896469,\n",
       "       0.50745259, 0.95268044, 0.39730775, 0.16745697, 0.02673763,\n",
       "       0.40678449, 0.27508322, 0.42118505, 0.77677558, 0.14968034,\n",
       "       0.58031428, 0.51158324, 0.21867758, 0.07524976, 0.48324536,\n",
       "       0.70830958, 0.94643276, 0.88289522, 0.89728829, 0.0847777 ,\n",
       "       0.19679893, 0.76023502, 0.37836714, 0.2493348 , 0.16107255,\n",
       "       0.15340733, 0.40010887, 0.48894507, 0.78829914, 0.0698524 ,\n",
       "       0.7702556 , 0.1937365 , 0.11669656, 0.18885014, 0.49673944,\n",
       "       0.13379637, 0.01262445, 0.9326277 , 0.42240703, 0.4869838 ,\n",
       "       0.63977462, 0.10064379, 0.55684414, 0.52867389, 0.27001195,\n",
       "       0.95804977, 0.69652612, 0.15456356, 0.82808982, 0.15222219,\n",
       "       0.43932157, 0.76669213, 0.78215372, 0.8833959 , 0.75666726,\n",
       "       0.78866214, 0.3932123 , 0.37646114, 0.51438848, 0.28452333,\n",
       "       0.19588422, 0.9452013 , 0.65707895, 0.06292284, 0.55931984,\n",
       "       0.55502133, 0.61116843, 0.14388276, 0.76177572, 0.62958   ,\n",
       "       0.93466114, 0.15230217, 0.07207707, 0.25188455, 0.86128865,\n",
       "       0.77085855, 0.95208028, 0.12535851, 0.57125271, 0.21632407,\n",
       "       0.71496423, 0.11138388, 0.56888609, 0.6314712 , 0.26405902,\n",
       "       0.62151343, 0.6159852 , 0.38818217, 0.45142426, 0.10567811,\n",
       "       0.94734517, 0.69380075, 0.7467405 , 0.10873552, 0.51955415,\n",
       "       0.30870448, 0.06683439, 0.74154754, 0.56175329, 0.2908041 ,\n",
       "       0.62782628, 0.36546014, 0.34104073, 0.97547001, 0.63293959,\n",
       "       0.92290768, 0.42736653, 0.06723898, 0.77981251, 0.59154614,\n",
       "       0.11787944, 0.77968336, 0.23547389, 0.8851944 , 0.00109074,\n",
       "       0.15240559, 0.93300463, 0.6529246 , 0.84711464, 0.65720103,\n",
       "       0.19694644, 0.93584696, 0.42009356, 0.26434214, 0.31939964,\n",
       "       0.9102144 , 0.7433021 , 0.42313814, 0.53035184, 0.75168483,\n",
       "       0.22662252, 0.93671589, 0.28397687, 0.2765993 , 0.89252243,\n",
       "       0.38619028, 0.09728752, 0.94241865, 0.5488906 , 0.1171547 ,\n",
       "       0.29162178, 0.00886764, 0.25605561, 0.40683602, 0.71036485,\n",
       "       0.84900615, 0.56301699, 0.07778855, 0.14336677, 0.08144378,\n",
       "       0.33907788, 0.46373732, 0.14848053, 0.73491688, 0.57161061,\n",
       "       0.44487155, 0.75988975, 0.34800626, 0.89436734, 0.37467641,\n",
       "       0.91936321, 0.27867425, 0.46559056, 0.17606621, 0.27607747,\n",
       "       0.94704606, 0.12472534, 0.04658849, 0.23163277, 0.47009904,\n",
       "       0.33865931, 0.00118228, 0.29727677, 0.04625989, 0.37429191,\n",
       "       0.5720343 , 0.87083483, 0.05392617, 0.79786128, 0.74444726,\n",
       "       0.01968259, 0.71158642, 0.67879507, 0.95337024, 0.50153778,\n",
       "       0.0852678 , 0.54807256, 0.05923227, 0.48897895, 0.49654845,\n",
       "       0.5468145 , 0.49614138, 0.75603583, 0.59198721, 0.98884594,\n",
       "       0.47468117, 0.12029058, 0.08136063, 0.86393142, 0.76614591,\n",
       "       0.93594773, 0.71892709, 0.40523962, 0.91178679, 0.51580571,\n",
       "       0.80551018, 0.3770717 , 0.15499776, 0.81790455, 0.82909785,\n",
       "       0.81486791, 0.88681318, 0.26248215, 0.76718149, 0.64818324,\n",
       "       0.20191076, 0.19592772, 0.41999412, 0.50680536, 0.91814111,\n",
       "       0.364481  , 0.71719816, 0.4033463 , 0.72446292, 0.41399485,\n",
       "       0.60862598, 0.51444062, 0.90754822, 0.95789892, 0.25050379,\n",
       "       0.73676415, 0.32489336, 0.42684312, 0.55408142, 0.23103444,\n",
       "       0.28492468, 0.14564881, 0.43771929, 0.52763158, 0.68392091,\n",
       "       0.31012674, 0.06209557, 0.88475683, 0.03451336, 0.7739501 ,\n",
       "       0.61226615, 0.14828324, 0.66837206, 0.12171711, 0.54633948,\n",
       "       0.42198596, 0.04636638, 0.63841446, 0.33868491, 0.8027341 ,\n",
       "       0.61520598, 0.96150608, 0.32394058, 0.5915791 , 0.21173722,\n",
       "       0.49618437, 0.18975533, 0.98958609, 0.87352102, 0.3129668 ,\n",
       "       0.72709208, 0.1688655 , 0.10239604, 0.51668388, 0.00966342,\n",
       "       0.32378208, 0.3534399 , 0.42524253, 0.95428598, 0.01631348,\n",
       "       0.89250528, 0.06991511, 0.97353148, 0.66705071, 0.61079216,\n",
       "       0.48173694, 0.67369148, 0.11477217, 0.59712612, 0.67577468,\n",
       "       0.59199381, 0.73851705, 0.57133203, 0.97799585, 0.96540764,\n",
       "       0.98415802, 0.20709668, 0.35655378, 0.43521811, 0.93527413,\n",
       "       0.69685779, 0.97014425, 0.16580035, 0.65164254, 0.03787207,\n",
       "       0.66481099, 0.03160787, 0.80533555, 0.56892961, 0.30429929,\n",
       "       0.71767679, 0.79905468, 0.43762637, 0.71209479, 0.12071801,\n",
       "       0.37239216, 0.1029379 , 0.00452868, 0.91548974, 0.92125132,\n",
       "       0.68983   , 0.10182944, 0.20058582, 0.38584571, 0.26391029,\n",
       "       0.53752173, 0.18150121, 0.79000538, 0.81716645, 0.2957901 ,\n",
       "       0.97364316, 0.39345741, 0.5677152 , 0.53118611, 0.16876658,\n",
       "       0.75440335, 0.68332175, 0.77653319, 0.71987419, 0.49237648,\n",
       "       0.95799276, 0.01539735, 0.12587772, 0.30090571, 0.76704434,\n",
       "       0.5624321 , 0.96733399, 0.66058912, 0.54500187, 0.84964986,\n",
       "       0.520711  , 0.78467758, 0.33205595, 0.05607247, 0.07798522,\n",
       "       0.35969067, 0.33943086, 0.32297219, 0.91980944, 0.80858323,\n",
       "       0.48966749, 0.00545018, 0.2894328 , 0.44113552, 0.38310311,\n",
       "       0.32366328, 0.20476849, 0.4737238 , 0.32327626, 0.75599972,\n",
       "       0.63387117, 0.72199973, 0.13153543, 0.10797798, 0.87407169,\n",
       "       0.86586292, 0.45740771, 0.16083488, 0.38011635, 0.87384381,\n",
       "       0.71362947, 0.09764937, 0.05521613, 0.72081335, 0.48770592,\n",
       "       0.79779608, 0.9301149 , 0.39392906, 0.61763275, 0.78200679,\n",
       "       0.66208222, 0.00309495, 0.4499891 , 0.97186688, 0.36438701,\n",
       "       0.97585865, 0.0054626 , 0.22796858, 0.57051103, 0.31413909,\n",
       "       0.61309623, 0.33785068, 0.69354461, 0.82820555, 0.97399128,\n",
       "       0.66750681, 0.91840704, 0.4115344 , 0.69332114, 0.74492892,\n",
       "       0.41926024, 0.853565  , 0.93820284, 0.21410137, 0.08879872,\n",
       "       0.92291025, 0.84721105, 0.47980358, 0.75048229, 0.20743051,\n",
       "       0.5952789 , 0.7055949 , 0.70689068, 0.36005457, 0.57411962,\n",
       "       0.74773027, 0.17336901, 0.88423241, 0.84051537, 0.23365634,\n",
       "       0.6793751 , 0.16201946, 0.59125482, 0.96564296, 0.30820042,\n",
       "       0.23392368, 0.53053825, 0.16841263, 0.64493806, 0.56257868,\n",
       "       0.30527858, 0.2574672 , 0.17291579, 0.80292227, 0.99168035,\n",
       "       0.55407413, 0.66963381, 0.65118517, 0.5284052 , 0.41895289,\n",
       "       0.51035563, 0.63711142, 0.6163024 , 0.32801018, 0.02328153,\n",
       "       0.54434316, 0.61336454, 0.12131989, 0.84634876, 0.47797816,\n",
       "       0.85579858, 0.52267119, 0.23148411, 0.60735349, 0.7130706 ,\n",
       "       0.8506746 , 0.74916388, 0.83561677, 0.81070289, 0.38185217,\n",
       "       0.25857761, 0.52175846, 0.74973732, 0.56205604, 0.61568953,\n",
       "       0.91972065, 0.22638367, 0.76245752, 0.83471186, 0.1799666 ,\n",
       "       0.77452023, 0.18209954, 0.30588395, 0.30915314, 0.61060238,\n",
       "       0.45305811, 0.53725731, 0.25552003, 0.7712336 , 0.65741189,\n",
       "       0.89002804, 0.93406526, 0.02481874, 0.16960004, 0.62220328,\n",
       "       0.7269638 , 0.83235472, 0.15204378, 0.3789846 , 0.11864121,\n",
       "       0.08319741, 0.17547816, 0.27926739, 0.75192828, 0.55341908,\n",
       "       0.14334723, 0.60163693, 0.43015001, 0.71328958, 0.3148244 ,\n",
       "       0.80039665, 0.18731779, 0.14159371, 0.97689633, 0.64360515,\n",
       "       0.93133324, 0.22136762, 0.58674846, 0.81706692, 0.40447443,\n",
       "       0.96869925, 0.53382038, 0.1268727 , 0.44156857, 0.06683546,\n",
       "       0.95466187, 0.38759194, 0.93987736, 0.95030262, 0.28241255,\n",
       "       0.57372395, 0.53232321, 0.51714955, 0.5499777 , 0.01630262,\n",
       "       0.01179907, 0.82650016, 0.5394462 , 0.7897959 , 0.50776894,\n",
       "       0.45854319, 0.66620866, 0.96704161, 0.53693729, 0.02270501,\n",
       "       0.9587795 , 0.1381257 , 0.41499811, 0.9660304 , 0.39607361,\n",
       "       0.18123429, 0.92625251, 0.75509777, 0.84964255, 0.11318127,\n",
       "       0.51111142, 0.40361847, 0.08837072, 0.61769686, 0.74896765,\n",
       "       0.50631638, 0.10289164, 0.67947271, 0.02408161, 0.34253557,\n",
       "       0.07099594, 0.64490693, 0.22424951, 0.23057372, 0.17122037,\n",
       "       0.47181721, 0.11014879, 0.41619207, 0.84380638, 0.09425621,\n",
       "       0.4154831 , 0.07851843, 0.83667229, 0.81447141, 0.21704019,\n",
       "       0.24221521, 0.94302191, 0.45829474, 0.44492562, 0.59203449,\n",
       "       0.1209805 , 0.86569345, 0.90122389, 0.91477451, 0.53008498,\n",
       "       0.55195907, 0.08458812, 0.13666011, 0.10205511, 0.01052321])"
      ]
     },
     "execution_count": 42,
     "metadata": {},
     "output_type": "execute_result"
    }
   ],
   "source": [
    "a[1:5]\n",
    "a[:5]\n",
    "a[::2]\n",
    "a[2:]\n",
    "a[::-1]\n"
   ]
  },
  {
   "cell_type": "code",
   "execution_count": 48,
   "metadata": {},
   "outputs": [
    {
     "data": {
      "text/plain": [
       "array([0.01052321, 0.10205511, 0.13666011, 0.08458812, 0.55195907,\n",
       "       0.53008498, 0.91477451, 0.90122389, 0.86569345, 0.1209805 ,\n",
       "       0.59203449, 0.44492562, 0.45829474, 0.94302191, 0.24221521,\n",
       "       0.21704019, 0.81447141, 0.83667229, 0.07851843, 0.4154831 ,\n",
       "       0.09425621, 0.84380638, 0.41619207, 0.11014879, 0.47181721,\n",
       "       0.17122037, 0.23057372, 0.22424951, 0.64490693, 0.07099594,\n",
       "       0.34253557, 0.02408161, 0.67947271, 0.10289164, 0.50631638,\n",
       "       0.74896765, 0.61769686, 0.08837072, 0.40361847, 0.51111142,\n",
       "       0.11318127, 0.84964255, 0.75509777, 0.92625251, 0.18123429,\n",
       "       0.39607361, 0.9660304 , 0.41499811, 0.1381257 , 0.9587795 ,\n",
       "       0.02270501, 0.53693729, 0.96704161, 0.66620866, 0.45854319,\n",
       "       0.50776894, 0.7897959 , 0.5394462 , 0.82650016, 0.01179907,\n",
       "       0.01630262, 0.5499777 , 0.51714955, 0.53232321, 0.57372395,\n",
       "       0.28241255, 0.95030262, 0.93987736, 0.38759194, 0.95466187,\n",
       "       0.06683546, 0.44156857, 0.1268727 , 0.53382038, 0.96869925,\n",
       "       0.40447443, 0.81706692, 0.58674846, 0.22136762, 0.93133324,\n",
       "       0.64360515, 0.97689633, 0.14159371, 0.18731779, 0.80039665,\n",
       "       0.3148244 , 0.71328958, 0.43015001, 0.60163693, 0.14334723,\n",
       "       0.55341908, 0.75192828, 0.27926739, 0.17547816, 0.08319741,\n",
       "       0.11864121, 0.3789846 , 0.15204378, 0.83235472, 0.7269638 ,\n",
       "       0.62220328, 0.16960004, 0.02481874, 0.93406526, 0.89002804,\n",
       "       0.65741189, 0.7712336 , 0.25552003, 0.53725731, 0.45305811,\n",
       "       0.61060238, 0.30915314, 0.30588395, 0.18209954, 0.77452023,\n",
       "       0.1799666 , 0.83471186, 0.76245752, 0.22638367, 0.91972065,\n",
       "       0.61568953, 0.56205604, 0.74973732, 0.52175846, 0.25857761,\n",
       "       0.38185217, 0.81070289, 0.83561677, 0.74916388, 0.8506746 ,\n",
       "       0.7130706 , 0.60735349, 0.23148411, 0.52267119, 0.85579858,\n",
       "       0.47797816, 0.84634876, 0.12131989, 0.61336454, 0.54434316,\n",
       "       0.02328153, 0.32801018, 0.6163024 , 0.63711142, 0.51035563,\n",
       "       0.41895289, 0.5284052 , 0.65118517, 0.66963381, 0.55407413,\n",
       "       0.99168035, 0.80292227, 0.17291579, 0.2574672 , 0.30527858,\n",
       "       0.56257868, 0.64493806, 0.16841263, 0.53053825, 0.23392368,\n",
       "       0.30820042, 0.96564296, 0.59125482, 0.16201946, 0.6793751 ,\n",
       "       0.23365634, 0.84051537, 0.88423241, 0.17336901, 0.74773027,\n",
       "       0.57411962, 0.36005457, 0.70689068, 0.7055949 , 0.5952789 ,\n",
       "       0.20743051, 0.75048229, 0.47980358, 0.84721105, 0.92291025,\n",
       "       0.08879872, 0.21410137, 0.93820284, 0.853565  , 0.41926024,\n",
       "       0.74492892, 0.69332114, 0.4115344 , 0.91840704, 0.66750681,\n",
       "       0.97399128, 0.82820555, 0.69354461, 0.33785068, 0.61309623,\n",
       "       0.31413909, 0.57051103, 0.22796858, 0.0054626 , 0.97585865,\n",
       "       0.36438701, 0.97186688, 0.4499891 , 0.00309495, 0.66208222,\n",
       "       0.78200679, 0.61763275, 0.39392906, 0.9301149 , 0.79779608,\n",
       "       0.48770592, 0.72081335, 0.05521613, 0.09764937, 0.71362947,\n",
       "       0.87384381, 0.38011635, 0.16083488, 0.45740771, 0.86586292,\n",
       "       0.87407169, 0.10797798, 0.13153543, 0.72199973, 0.63387117,\n",
       "       0.75599972, 0.32327626, 0.4737238 , 0.20476849, 0.32366328,\n",
       "       0.38310311, 0.44113552, 0.2894328 , 0.00545018, 0.48966749,\n",
       "       0.80858323, 0.91980944, 0.32297219, 0.33943086, 0.35969067,\n",
       "       0.07798522, 0.05607247, 0.33205595, 0.78467758, 0.520711  ,\n",
       "       0.84964986, 0.54500187, 0.66058912, 0.96733399, 0.5624321 ,\n",
       "       0.76704434, 0.30090571, 0.12587772, 0.01539735, 0.95799276,\n",
       "       0.49237648, 0.71987419, 0.77653319, 0.68332175, 0.75440335,\n",
       "       0.16876658, 0.53118611, 0.5677152 , 0.39345741, 0.97364316,\n",
       "       0.2957901 , 0.81716645, 0.79000538, 0.18150121, 0.53752173,\n",
       "       0.26391029, 0.38584571, 0.20058582, 0.10182944, 0.68983   ,\n",
       "       0.92125132, 0.91548974, 0.00452868, 0.1029379 , 0.37239216,\n",
       "       0.12071801, 0.71209479, 0.43762637, 0.79905468, 0.71767679,\n",
       "       0.30429929, 0.56892961, 0.80533555, 0.03160787, 0.66481099,\n",
       "       0.03787207, 0.65164254, 0.16580035, 0.97014425, 0.69685779,\n",
       "       0.93527413, 0.43521811, 0.35655378, 0.20709668, 0.98415802,\n",
       "       0.96540764, 0.97799585, 0.57133203, 0.73851705, 0.59199381,\n",
       "       0.67577468, 0.59712612, 0.11477217, 0.67369148, 0.48173694,\n",
       "       0.61079216, 0.66705071, 0.97353148, 0.06991511, 0.89250528,\n",
       "       0.01631348, 0.95428598, 0.42524253, 0.3534399 , 0.32378208,\n",
       "       0.00966342, 0.51668388, 0.10239604, 0.1688655 , 0.72709208,\n",
       "       0.3129668 , 0.87352102, 0.98958609, 0.18975533, 0.49618437,\n",
       "       0.21173722, 0.5915791 , 0.32394058, 0.96150608, 0.61520598,\n",
       "       0.8027341 , 0.33868491, 0.63841446, 0.04636638, 0.42198596,\n",
       "       0.54633948, 0.12171711, 0.66837206, 0.14828324, 0.61226615,\n",
       "       0.7739501 , 0.03451336, 0.88475683, 0.06209557, 0.31012674,\n",
       "       0.68392091, 0.52763158, 0.43771929, 0.14564881, 0.28492468,\n",
       "       0.23103444, 0.55408142, 0.42684312, 0.32489336, 0.73676415,\n",
       "       0.25050379, 0.95789892, 0.90754822, 0.51444062, 0.60862598,\n",
       "       0.41399485, 0.72446292, 0.4033463 , 0.71719816, 0.364481  ,\n",
       "       0.91814111, 0.50680536, 0.41999412, 0.19592772, 0.20191076,\n",
       "       0.64818324, 0.76718149, 0.26248215, 0.88681318, 0.81486791,\n",
       "       0.82909785, 0.81790455, 0.15499776, 0.3770717 , 0.80551018,\n",
       "       0.51580571, 0.91178679, 0.40523962, 0.71892709, 0.93594773,\n",
       "       0.76614591, 0.86393142, 0.08136063, 0.12029058, 0.47468117,\n",
       "       0.98884594, 0.59198721, 0.75603583, 0.49614138, 0.5468145 ,\n",
       "       0.49654845, 0.48897895, 0.05923227, 0.54807256, 0.0852678 ,\n",
       "       0.50153778, 0.95337024, 0.67879507, 0.71158642, 0.01968259,\n",
       "       0.74444726, 0.79786128, 0.05392617, 0.87083483, 0.5720343 ,\n",
       "       0.37429191, 0.04625989, 0.29727677, 0.00118228, 0.33865931,\n",
       "       0.47009904, 0.23163277, 0.04658849, 0.12472534, 0.94704606,\n",
       "       0.27607747, 0.17606621, 0.46559056, 0.27867425, 0.91936321,\n",
       "       0.37467641, 0.89436734, 0.34800626, 0.75988975, 0.44487155,\n",
       "       0.57161061, 0.73491688, 0.14848053, 0.46373732, 0.33907788,\n",
       "       0.08144378, 0.14336677, 0.07778855, 0.56301699, 0.84900615,\n",
       "       0.71036485, 0.40683602, 0.25605561, 0.00886764, 0.29162178,\n",
       "       0.1171547 , 0.5488906 , 0.94241865, 0.09728752, 0.38619028,\n",
       "       0.89252243, 0.2765993 , 0.28397687, 0.93671589, 0.22662252,\n",
       "       0.75168483, 0.53035184, 0.42313814, 0.7433021 , 0.9102144 ,\n",
       "       0.31939964, 0.26434214, 0.42009356, 0.93584696, 0.19694644,\n",
       "       0.65720103, 0.84711464, 0.6529246 , 0.93300463, 0.15240559,\n",
       "       0.00109074, 0.8851944 , 0.23547389, 0.77968336, 0.11787944,\n",
       "       0.59154614, 0.77981251, 0.06723898, 0.42736653, 0.92290768,\n",
       "       0.63293959, 0.97547001, 0.34104073, 0.36546014, 0.62782628,\n",
       "       0.2908041 , 0.56175329, 0.74154754, 0.06683439, 0.30870448,\n",
       "       0.51955415, 0.10873552, 0.7467405 , 0.69380075, 0.94734517,\n",
       "       0.10567811, 0.45142426, 0.38818217, 0.6159852 , 0.62151343,\n",
       "       0.26405902, 0.6314712 , 0.56888609, 0.11138388, 0.71496423,\n",
       "       0.21632407, 0.57125271, 0.12535851, 0.95208028, 0.77085855,\n",
       "       0.86128865, 0.25188455, 0.07207707, 0.15230217, 0.93466114,\n",
       "       0.62958   , 0.76177572, 0.14388276, 0.61116843, 0.55502133,\n",
       "       0.55931984, 0.06292284, 0.65707895, 0.9452013 , 0.19588422,\n",
       "       0.28452333, 0.51438848, 0.37646114, 0.3932123 , 0.78866214,\n",
       "       0.75666726, 0.8833959 , 0.78215372, 0.76669213, 0.43932157,\n",
       "       0.15222219, 0.82808982, 0.15456356, 0.69652612, 0.95804977,\n",
       "       0.27001195, 0.52867389, 0.55684414, 0.10064379, 0.63977462,\n",
       "       0.4869838 , 0.42240703, 0.9326277 , 0.01262445, 0.13379637,\n",
       "       0.49673944, 0.18885014, 0.11669656, 0.1937365 , 0.7702556 ,\n",
       "       0.0698524 , 0.78829914, 0.48894507, 0.40010887, 0.15340733,\n",
       "       0.16107255, 0.2493348 , 0.37836714, 0.76023502, 0.19679893,\n",
       "       0.0847777 , 0.89728829, 0.88289522, 0.94643276, 0.70830958,\n",
       "       0.48324536, 0.07524976, 0.21867758, 0.51158324, 0.58031428,\n",
       "       0.14968034, 0.77677558, 0.42118505, 0.27508322, 0.40678449,\n",
       "       0.02673763, 0.16745697, 0.39730775, 0.95268044, 0.50745259,\n",
       "       0.66896469, 0.0726747 , 0.25041341, 0.58896316, 0.36014348,\n",
       "       0.61676621, 0.65343256, 0.33684741, 0.5491465 , 0.38199709,\n",
       "       0.94943873, 0.44127645, 0.13951567, 0.54798605, 0.98051703,\n",
       "       0.35797207, 0.55715679, 0.19068643, 0.66747287, 0.98295638,\n",
       "       0.33840004, 0.37912786, 0.60610349, 0.6078476 , 0.92068583,\n",
       "       0.66416381, 0.69066842, 0.32997856, 0.94352858, 0.39861118,\n",
       "       0.19480748, 0.33029862, 0.96429743, 0.11515687, 0.4911709 ,\n",
       "       0.4831964 , 0.18193611, 0.01780842, 0.14052706, 0.72010914,\n",
       "       0.46409931, 0.11377084, 0.43434988, 0.77127755, 0.42527959,\n",
       "       0.2639696 , 0.62623119, 0.82013967, 0.01416369, 0.39238514,\n",
       "       0.33869135, 0.01202093, 0.24661405, 0.51957714, 0.71093821,\n",
       "       0.67592083, 0.66082378, 0.16506023, 0.15856597, 0.46357079,\n",
       "       0.28039948, 0.80947037, 0.62199811, 0.73956451, 0.54020708,\n",
       "       0.71264646, 0.730273  , 0.59310684, 0.10203075, 0.12711252,\n",
       "       0.9974859 , 0.80590491, 0.92543469, 0.13809096, 0.41090432,\n",
       "       0.45929311, 0.0628991 , 0.88397343, 0.53198267, 0.98457688,\n",
       "       0.53393059, 0.74771081, 0.30840572, 0.10121708, 0.79290912,\n",
       "       0.83677346, 0.62848239, 0.24188718, 0.65571644, 0.71095415,\n",
       "       0.98061582, 0.23153936, 0.08593315, 0.76572051, 0.94434465,\n",
       "       0.74418851, 0.10900761, 0.19195821, 0.26186083, 0.31981382,\n",
       "       0.66496508, 0.97549143, 0.25471178, 0.08708953, 0.03397186,\n",
       "       0.79306569, 0.22056593, 0.47413008, 0.03920489, 0.92271914,\n",
       "       0.28453585, 0.53773681, 0.57059696, 0.80700783, 0.81852074,\n",
       "       0.529859  , 0.00844979, 0.7501103 , 0.18442093, 0.97096626,\n",
       "       0.79184796, 0.6016083 , 0.347796  , 0.89814476, 0.39034571,\n",
       "       0.9186896 , 0.93098034, 0.37952793, 0.17109985, 0.03517843,\n",
       "       0.17333692, 0.62214101, 0.42488675, 0.29577543, 0.17866127,\n",
       "       0.84867098, 0.56927947, 0.59051086, 0.8937144 , 0.05198368,\n",
       "       0.85975379, 0.98721928, 0.74506136, 0.12657044, 0.26086235,\n",
       "       0.80929309, 0.23698936, 0.07639887, 0.97252819, 0.80673912,\n",
       "       0.6080905 , 0.41256358, 0.32949698, 0.56630061, 0.99077938,\n",
       "       0.20564986, 0.09389699, 0.38135617, 0.50812029, 0.54219364,\n",
       "       0.40449578, 0.10467986, 0.20009669, 0.99059992, 0.18870716,\n",
       "       0.02502683, 0.3713501 , 0.97103134, 0.8628502 , 0.85510121,\n",
       "       0.18531332, 0.69169801, 0.785774  , 0.82380396, 0.55006016,\n",
       "       0.53704251, 0.63003915, 0.75970905, 0.13882839, 0.4918145 ,\n",
       "       0.31779468, 0.43318651, 0.03338868, 0.73380702, 0.98985735,\n",
       "       0.03208624, 0.8991106 , 0.16553294, 0.57166606, 0.79670075,\n",
       "       0.70286849, 0.28164888, 0.01807864, 0.67551425, 0.42440874,\n",
       "       0.26640229, 0.72435729, 0.20341776, 0.16402019, 0.03686252,\n",
       "       0.11486442, 0.20735288, 0.53490705, 0.43242384, 0.98998114,\n",
       "       0.96640981, 0.06104668, 0.32216132, 0.60348329, 0.34709064,\n",
       "       0.72677217, 0.01253238, 0.24532818, 0.4028723 , 0.03297185,\n",
       "       0.48577837, 0.52260087, 0.53417413, 0.65400526, 0.85516204,\n",
       "       0.58332699, 0.72098659, 0.58107175, 0.12121882, 0.31635272,\n",
       "       0.82167129, 0.60532254, 0.31326343, 0.6221991 , 0.64673596,\n",
       "       0.49859433, 0.08503983, 0.74047968, 0.17121073, 0.86618849,\n",
       "       0.25528528, 0.74942402, 0.17530581, 0.63467293, 0.6416013 ,\n",
       "       0.11459375, 0.05076681, 0.79012929, 0.15208764, 0.23280428,\n",
       "       0.8213687 , 0.5188783 , 0.83778932, 0.40149407, 0.56406032,\n",
       "       0.79738499, 0.21221587, 0.03131536, 0.62865688, 0.40924686,\n",
       "       0.3029624 , 0.0717283 , 0.23414966, 0.14036379, 0.55532446,\n",
       "       0.03484883, 0.03581295, 0.36957399, 0.35552708, 0.27811995,\n",
       "       0.65924723, 0.23906292, 0.57805868, 0.51248134, 0.87784621,\n",
       "       0.05380765, 0.12659352, 0.06075655, 0.30830961, 0.03567746,\n",
       "       0.59337227, 0.7034802 , 0.84534939, 0.1278417 , 0.10548565,\n",
       "       0.3019132 , 0.67836018, 0.32951597, 0.19481817, 0.32653422,\n",
       "       0.32011353, 0.9660412 , 0.98642695, 0.14246834, 0.25724141,\n",
       "       0.46550421, 0.20034743, 0.65663699, 0.95408471, 0.87836271,\n",
       "       0.54770192, 0.33829191, 0.6025857 , 0.3022882 , 0.29465884,\n",
       "       0.52473262, 0.04454404, 0.27050246, 0.29946168, 0.32411654,\n",
       "       0.56157642, 0.51214531, 0.32919175, 0.19678301, 0.19955475,\n",
       "       0.12920335, 0.00442717, 0.44275604, 0.63635608, 0.80890078,\n",
       "       0.72790677, 0.27737079, 0.2116187 , 0.40474789, 0.58089938,\n",
       "       0.25937951, 0.06360895, 0.49118929, 0.11381718, 0.21983646,\n",
       "       0.12578938, 0.73808535, 0.00428539, 0.80129302, 0.43766452,\n",
       "       0.72305801, 0.95251104, 0.68750694, 0.9806646 , 0.32669045,\n",
       "       0.28229023, 0.06682481, 0.92120896, 0.62156649, 0.17872411,\n",
       "       0.06613216, 0.52724617, 0.32110935, 0.95807817, 0.57659974,\n",
       "       0.41553496, 0.76523993, 0.67149125, 0.22468532, 0.59902629,\n",
       "       0.86581706, 0.92085401, 0.46822784, 0.26391341, 0.67462949,\n",
       "       0.52036265, 0.54473756, 0.30036151, 0.23014049, 0.84686078,\n",
       "       0.36184448, 0.47027278, 0.06101299, 0.55207999, 0.31257957,\n",
       "       0.02310519, 0.8838714 , 0.89846104, 0.42068848, 0.63881704,\n",
       "       0.75914943, 0.4428968 , 0.48485849, 0.23308481, 0.09419704,\n",
       "       0.60110576, 0.22740539, 0.31275131, 0.21255386, 0.13668917,\n",
       "       0.18212748, 0.92602507, 0.72049834, 0.14456908, 0.4709913 ,\n",
       "       0.1949158 , 0.59909383, 0.94644967, 0.93748674, 0.09789351,\n",
       "       0.64497085, 0.30313547, 0.57939085, 0.29474335, 0.07661821,\n",
       "       0.8031472 , 0.55538135, 0.15583158, 0.04623211, 0.87050852,\n",
       "       0.41520784, 0.43780608, 0.69747521, 0.2093327 , 0.31868522,\n",
       "       0.55811813, 0.62301901, 0.96965188, 0.04047837, 0.90184455])"
      ]
     },
     "execution_count": 48,
     "metadata": {},
     "output_type": "execute_result"
    }
   ],
   "source": [
    "A = np.arange(100)\n",
    "a"
   ]
  },
  {
   "cell_type": "code",
   "execution_count": 51,
   "metadata": {},
   "outputs": [
    {
     "name": "stdout",
     "output_type": "stream",
     "text": [
      "[3 4 5 6 7 8 9]\n"
     ]
    }
   ],
   "source": [
    "\n",
    "b = A[3:10].copy()\n",
    "print(b)"
   ]
  },
  {
   "cell_type": "markdown",
   "metadata": {},
   "source": [
    "# NumpY(Broadcasting)"
   ]
  },
  {
   "cell_type": "code",
   "execution_count": 53,
   "metadata": {},
   "outputs": [
    {
     "data": {
      "text/plain": [
       "<function sort at 0x7427b36f9c70>"
      ]
     },
     "execution_count": 53,
     "metadata": {},
     "output_type": "execute_result"
    }
   ],
   "source": [
    "np.hstack\n",
    "np.vstack\n",
    "np.sort"
   ]
  },
  {
   "cell_type": "code",
   "execution_count": 56,
   "metadata": {},
   "outputs": [
    {
     "data": {
      "text/plain": [
       "array([[6., 4.],\n",
       "       [8., 2.]])"
      ]
     },
     "execution_count": 56,
     "metadata": {},
     "output_type": "execute_result"
    }
   ],
   "source": [
    "B = np.round(10*np.random.rand(2,2))\n",
    "B"
   ]
  },
  {
   "cell_type": "markdown",
   "metadata": {},
   "source": [
    "# NumpY(KNN Classifer)"
   ]
  },
  {
   "cell_type": "code",
   "execution_count": 58,
   "metadata": {},
   "outputs": [
    {
     "ename": "ModuleNotFoundError",
     "evalue": "No module named 'sklearn'",
     "output_type": "error",
     "traceback": [
      "\u001b[31m---------------------------------------------------------------------------\u001b[39m",
      "\u001b[31mModuleNotFoundError\u001b[39m                       Traceback (most recent call last)",
      "\u001b[36mCell\u001b[39m\u001b[36m \u001b[39m\u001b[32mIn[58]\u001b[39m\u001b[32m, line 1\u001b[39m\n\u001b[32m----> \u001b[39m\u001b[32m1\u001b[39m \u001b[38;5;28;01mfrom\u001b[39;00m\u001b[38;5;250m \u001b[39m\u001b[34;01msklearn\u001b[39;00m\u001b[34;01m.\u001b[39;00m\u001b[34;01mdatasets\u001b[39;00m\u001b[38;5;250m \u001b[39m\u001b[38;5;28;01mimport\u001b[39;00m load_iris\n\u001b[32m      3\u001b[39m iris = load_iris()\n\u001b[32m      4\u001b[39m iris\n",
      "\u001b[31mModuleNotFoundError\u001b[39m: No module named 'sklearn'"
     ]
    }
   ],
   "source": [
    "from sklearn.datasets import load_iris\n",
    "\n",
    "iris = load_iris()\n",
    "iris\n"
   ]
  },
  {
   "cell_type": "code",
   "execution_count": 59,
   "metadata": {},
   "outputs": [
    {
     "ename": "NameError",
     "evalue": "name 'iris' is not defined",
     "output_type": "error",
     "traceback": [
      "\u001b[31m---------------------------------------------------------------------------\u001b[39m",
      "\u001b[31mNameError\u001b[39m                                 Traceback (most recent call last)",
      "\u001b[36mCell\u001b[39m\u001b[36m \u001b[39m\u001b[32mIn[59]\u001b[39m\u001b[32m, line 1\u001b[39m\n\u001b[32m----> \u001b[39m\u001b[32m1\u001b[39m \u001b[43miris\u001b[49m.data.shape\n\u001b[32m      2\u001b[39m x = iris.expandtabs\n\u001b[32m      3\u001b[39m y = iris.traget\n",
      "\u001b[31mNameError\u001b[39m: name 'iris' is not defined"
     ]
    }
   ],
   "source": [
    "iris.data.shape\n",
    "x = iris.expandtabs\n",
    "y = iris.traget"
   ]
  },
  {
   "cell_type": "code",
   "execution_count": 60,
   "metadata": {},
   "outputs": [
    {
     "ename": "NameError",
     "evalue": "name 'y' is not defined",
     "output_type": "error",
     "traceback": [
      "\u001b[31m---------------------------------------------------------------------------\u001b[39m",
      "\u001b[31mNameError\u001b[39m                                 Traceback (most recent call last)",
      "\u001b[36mCell\u001b[39m\u001b[36m \u001b[39m\u001b[32mIn[60]\u001b[39m\u001b[32m, line 1\u001b[39m\n\u001b[32m----> \u001b[39m\u001b[32m1\u001b[39m np.unique(\u001b[43my\u001b[49m)\n\u001b[32m      2\u001b[39m y.shape\n\u001b[32m      3\u001b[39m y[\u001b[32m100\u001b[39m]\n",
      "\u001b[31mNameError\u001b[39m: name 'y' is not defined"
     ]
    }
   ],
   "source": [
    "np.unique(y)\n",
    "y.shape\n",
    "y[100]\n",
    "x[100.:]"
   ]
  },
  {
   "cell_type": "code",
   "execution_count": null,
   "metadata": {},
   "outputs": [],
   "source": []
  },
  {
   "cell_type": "markdown",
   "metadata": {},
   "source": [
    "# Pandas(DataFrame)"
   ]
  },
  {
   "cell_type": "code",
   "execution_count": 61,
   "metadata": {},
   "outputs": [
    {
     "ename": "NameError",
     "evalue": "name 'pd' is not defined",
     "output_type": "error",
     "traceback": [
      "\u001b[31m---------------------------------------------------------------------------\u001b[39m",
      "\u001b[31mNameError\u001b[39m                                 Traceback (most recent call last)",
      "\u001b[36mCell\u001b[39m\u001b[36m \u001b[39m\u001b[32mIn[61]\u001b[39m\u001b[32m, line 1\u001b[39m\n\u001b[32m----> \u001b[39m\u001b[32m1\u001b[39m D = \u001b[43mpd\u001b[49m.DataFrame({\u001b[33m'\u001b[39m\u001b[33mMarks\u001b[39m\u001b[33m'\u001b[39m:\u001b[33m'\u001b[39m\u001b[33mmarks\u001b[39m\u001b[33m'\u001b[39m,\u001b[33m'\u001b[39m\u001b[33mGrades\u001b[39m\u001b[33m'\u001b[39m:\u001b[33m'\u001b[39m\u001b[33mgrades\u001b[39m\u001b[33m'\u001b[39m})\n\u001b[32m      2\u001b[39m D\n",
      "\u001b[31mNameError\u001b[39m: name 'pd' is not defined"
     ]
    }
   ],
   "source": [
    "D = pd.DataFrame({'Marks':'marks','Grades':'grades'})\n",
    "D"
   ]
  },
  {
   "cell_type": "code",
   "execution_count": 62,
   "metadata": {},
   "outputs": [
    {
     "ename": "NameError",
     "evalue": "name 'D' is not defined",
     "output_type": "error",
     "traceback": [
      "\u001b[31m---------------------------------------------------------------------------\u001b[39m",
      "\u001b[31mNameError\u001b[39m                                 Traceback (most recent call last)",
      "\u001b[36mCell\u001b[39m\u001b[36m \u001b[39m\u001b[32mIn[62]\u001b[39m\u001b[32m, line 1\u001b[39m\n\u001b[32m----> \u001b[39m\u001b[32m1\u001b[39m \u001b[43mD\u001b[49m.T\n",
      "\u001b[31mNameError\u001b[39m: name 'D' is not defined"
     ]
    }
   ],
   "source": [
    "D.T"
   ]
  },
  {
   "cell_type": "code",
   "execution_count": 63,
   "metadata": {},
   "outputs": [
    {
     "ename": "NameError",
     "evalue": "name 'D' is not defined",
     "output_type": "error",
     "traceback": [
      "\u001b[31m---------------------------------------------------------------------------\u001b[39m",
      "\u001b[31mNameError\u001b[39m                                 Traceback (most recent call last)",
      "\u001b[36mCell\u001b[39m\u001b[36m \u001b[39m\u001b[32mIn[63]\u001b[39m\u001b[32m, line 1\u001b[39m\n\u001b[32m----> \u001b[39m\u001b[32m1\u001b[39m \u001b[43mD\u001b[49m.values\n",
      "\u001b[31mNameError\u001b[39m: name 'D' is not defined"
     ]
    }
   ],
   "source": [
    "D.values"
   ]
  },
  {
   "cell_type": "code",
   "execution_count": 64,
   "metadata": {},
   "outputs": [
    {
     "ename": "NameError",
     "evalue": "name 'D' is not defined",
     "output_type": "error",
     "traceback": [
      "\u001b[31m---------------------------------------------------------------------------\u001b[39m",
      "\u001b[31mNameError\u001b[39m                                 Traceback (most recent call last)",
      "\u001b[36mCell\u001b[39m\u001b[36m \u001b[39m\u001b[32mIn[64]\u001b[39m\u001b[32m, line 1\u001b[39m\n\u001b[32m----> \u001b[39m\u001b[32m1\u001b[39m \u001b[43mD\u001b[49m.values[\u001b[32m2\u001b[39m,\u001b[32m0\u001b[39m]\n",
      "\u001b[31mNameError\u001b[39m: name 'D' is not defined"
     ]
    }
   ],
   "source": [
    "D.values[2,0]"
   ]
  },
  {
   "cell_type": "code",
   "execution_count": 65,
   "metadata": {},
   "outputs": [
    {
     "ename": "NameError",
     "evalue": "name 'D' is not defined",
     "output_type": "error",
     "traceback": [
      "\u001b[31m---------------------------------------------------------------------------\u001b[39m",
      "\u001b[31mNameError\u001b[39m                                 Traceback (most recent call last)",
      "\u001b[36mCell\u001b[39m\u001b[36m \u001b[39m\u001b[32mIn[65]\u001b[39m\u001b[32m, line 1\u001b[39m\n\u001b[32m----> \u001b[39m\u001b[32m1\u001b[39m D[\u001b[33m'\u001b[39m\u001b[33mScaledMarks\u001b[39m\u001b[33m'\u001b[39m] = \u001b[32m100\u001b[39m*(\u001b[43mD\u001b[49m[\u001b[33m'\u001b[39m\u001b[33mMarks\u001b[39m\u001b[33m'\u001b[39m]/\u001b[32m90\u001b[39m)\n",
      "\u001b[31mNameError\u001b[39m: name 'D' is not defined"
     ]
    }
   ],
   "source": [
    "D['ScaledMarks'] = 100*(D['Marks']/90)"
   ]
  },
  {
   "cell_type": "code",
   "execution_count": 66,
   "metadata": {},
   "outputs": [
    {
     "ename": "NameError",
     "evalue": "name 'D' is not defined",
     "output_type": "error",
     "traceback": [
      "\u001b[31m---------------------------------------------------------------------------\u001b[39m",
      "\u001b[31mNameError\u001b[39m                                 Traceback (most recent call last)",
      "\u001b[36mCell\u001b[39m\u001b[36m \u001b[39m\u001b[32mIn[66]\u001b[39m\u001b[32m, line 1\u001b[39m\n\u001b[32m----> \u001b[39m\u001b[32m1\u001b[39m \u001b[43mD\u001b[49m.columns\n",
      "\u001b[31mNameError\u001b[39m: name 'D' is not defined"
     ]
    }
   ],
   "source": [
    "D.columns"
   ]
  },
  {
   "cell_type": "code",
   "execution_count": 67,
   "metadata": {},
   "outputs": [
    {
     "ename": "NameError",
     "evalue": "name 'D' is not defined",
     "output_type": "error",
     "traceback": [
      "\u001b[31m---------------------------------------------------------------------------\u001b[39m",
      "\u001b[31mNameError\u001b[39m                                 Traceback (most recent call last)",
      "\u001b[36mCell\u001b[39m\u001b[36m \u001b[39m\u001b[32mIn[67]\u001b[39m\u001b[32m, line 1\u001b[39m\n\u001b[32m----> \u001b[39m\u001b[32m1\u001b[39m G = \u001b[43mD\u001b[49m[D[\u001b[33m'\u001b[39m\u001b[33mMarks\u001b[39m\u001b[33m'\u001b[39m] > \u001b[32m70\u001b[39m]\n\u001b[32m      2\u001b[39m G\n",
      "\u001b[31mNameError\u001b[39m: name 'D' is not defined"
     ]
    }
   ],
   "source": [
    "G = D[D['Marks'] > 70]\n",
    "G"
   ]
  },
  {
   "cell_type": "markdown",
   "metadata": {},
   "source": [
    "# Pandas(Missing Values)"
   ]
  },
  {
   "cell_type": "code",
   "execution_count": 68,
   "metadata": {},
   "outputs": [
    {
     "ename": "NameError",
     "evalue": "name 'pd' is not defined",
     "output_type": "error",
     "traceback": [
      "\u001b[31m---------------------------------------------------------------------------\u001b[39m",
      "\u001b[31mNameError\u001b[39m                                 Traceback (most recent call last)",
      "\u001b[36mCell\u001b[39m\u001b[36m \u001b[39m\u001b[32mIn[68]\u001b[39m\u001b[32m, line 1\u001b[39m\n\u001b[32m----> \u001b[39m\u001b[32m1\u001b[39m \u001b[43mpd\u001b[49m.DataFrame([{\u001b[33m'\u001b[39m\u001b[33ma\u001b[39m\u001b[33m'\u001b[39m:\u001b[32m1\u001b[39m,\u001b[33m'\u001b[39m\u001b[33mb\u001b[39m\u001b[33m'\u001b[39m:\u001b[32m2\u001b[39m},{\u001b[33m'\u001b[39m\u001b[33mb\u001b[39m\u001b[33m'\u001b[39m:\u001b[32m3\u001b[39m,\u001b[33m'\u001b[39m\u001b[33mc\u001b[39m\u001b[33m'\u001b[39m:\u001b[32m4\u001b[39m}])\n",
      "\u001b[31mNameError\u001b[39m: name 'pd' is not defined"
     ]
    }
   ],
   "source": [
    "pd.DataFrame([{'a':1,'b':2},{'b':3,'c':4}])\n"
   ]
  },
  {
   "cell_type": "code",
   "execution_count": 69,
   "metadata": {},
   "outputs": [
    {
     "ename": "AttributeError",
     "evalue": "'numpy.ndarray' object has no attribute 'fillna'",
     "output_type": "error",
     "traceback": [
      "\u001b[31m---------------------------------------------------------------------------\u001b[39m",
      "\u001b[31mAttributeError\u001b[39m                            Traceback (most recent call last)",
      "\u001b[36mCell\u001b[39m\u001b[36m \u001b[39m\u001b[32mIn[69]\u001b[39m\u001b[32m, line 1\u001b[39m\n\u001b[32m----> \u001b[39m\u001b[32m1\u001b[39m \u001b[43mA\u001b[49m\u001b[43m.\u001b[49m\u001b[43mfillna\u001b[49m(\u001b[32m0\u001b[39m)\n",
      "\u001b[31mAttributeError\u001b[39m: 'numpy.ndarray' object has no attribute 'fillna'"
     ]
    }
   ],
   "source": [
    "A.fillna(0)"
   ]
  },
  {
   "cell_type": "markdown",
   "metadata": {},
   "source": [
    "# Pandas(Indexing)"
   ]
  },
  {
   "cell_type": "code",
   "execution_count": 70,
   "metadata": {},
   "outputs": [
    {
     "ename": "NameError",
     "evalue": "name 'pd' is not defined",
     "output_type": "error",
     "traceback": [
      "\u001b[31m---------------------------------------------------------------------------\u001b[39m",
      "\u001b[31mNameError\u001b[39m                                 Traceback (most recent call last)",
      "\u001b[36mCell\u001b[39m\u001b[36m \u001b[39m\u001b[32mIn[70]\u001b[39m\u001b[32m, line 1\u001b[39m\n\u001b[32m----> \u001b[39m\u001b[32m1\u001b[39m data = \u001b[43mpd\u001b[49m.series([\u001b[33m'\u001b[39m\u001b[33ma\u001b[39m\u001b[33m'\u001b[39m,\u001b[33m'\u001b[39m\u001b[33mb\u001b[39m\u001b[33m'\u001b[39m,\u001b[33m'\u001b[39m\u001b[33mc\u001b[39m\u001b[33m'\u001b[39m],index = [\u001b[32m1\u001b[39m,\u001b[32m3\u001b[39m,\u001b[32m5\u001b[39m])\n",
      "\u001b[31mNameError\u001b[39m: name 'pd' is not defined"
     ]
    }
   ],
   "source": [
    "data = pd.series(['a','b','c'],index = [1,3,5])"
   ]
  },
  {
   "cell_type": "code",
   "execution_count": 71,
   "metadata": {},
   "outputs": [
    {
     "ename": "NameError",
     "evalue": "name 'data' is not defined",
     "output_type": "error",
     "traceback": [
      "\u001b[31m---------------------------------------------------------------------------\u001b[39m",
      "\u001b[31mNameError\u001b[39m                                 Traceback (most recent call last)",
      "\u001b[36mCell\u001b[39m\u001b[36m \u001b[39m\u001b[32mIn[71]\u001b[39m\u001b[32m, line 1\u001b[39m\n\u001b[32m----> \u001b[39m\u001b[32m1\u001b[39m \u001b[43mdata\u001b[49m[\u001b[32m1\u001b[39m]\n\u001b[32m      2\u001b[39m data[\u001b[32m1\u001b[39m:\u001b[32m3\u001b[39m]\n\u001b[32m      3\u001b[39m rs.iloc[\u001b[32m2\u001b[39m,\u001b[32m3\u001b[39m]\n",
      "\u001b[31mNameError\u001b[39m: name 'data' is not defined"
     ]
    }
   ],
   "source": [
    "data[1]\n",
    "data[1:3]\n",
    "rs.iloc[2,3]\n",
    "D.iloc[2,:]"
   ]
  },
  {
   "cell_type": "code",
   "execution_count": 73,
   "metadata": {},
   "outputs": [
    {
     "ename": "AttributeError",
     "evalue": "'numpy.ndarray' object has no attribute 'loc'",
     "output_type": "error",
     "traceback": [
      "\u001b[31m---------------------------------------------------------------------------\u001b[39m",
      "\u001b[31mAttributeError\u001b[39m                            Traceback (most recent call last)",
      "\u001b[36mCell\u001b[39m\u001b[36m \u001b[39m\u001b[32mIn[73]\u001b[39m\u001b[32m, line 1\u001b[39m\n\u001b[32m----> \u001b[39m\u001b[32m1\u001b[39m \u001b[43mA\u001b[49m\u001b[43m.\u001b[49m\u001b[43mloc\u001b[49m[\u001b[32m1\u001b[39m:\u001b[32m3\u001b[39m]\n\u001b[32m      2\u001b[39m A.iloc[\u001b[32m1\u001b[39m:\u001b[32m3\u001b[39m]\n\u001b[32m      3\u001b[39m D.iloc[\u001b[32m2\u001b[39m,:]\n",
      "\u001b[31mAttributeError\u001b[39m: 'numpy.ndarray' object has no attribute 'loc'"
     ]
    }
   ],
   "source": [
    "A.loc[1:3]\n",
    "A.iloc[1:3]\n",
    "D.iloc[2,:]\n",
    "D.iloc[::-1,:]"
   ]
  },
  {
   "cell_type": "code",
   "execution_count": null,
   "metadata": {},
   "outputs": [],
   "source": []
  }
 ],
 "metadata": {
  "kernelspec": {
   "display_name": ".venv",
   "language": "python",
   "name": "python3"
  },
  "language_info": {
   "codemirror_mode": {
    "name": "ipython",
    "version": 3
   },
   "file_extension": ".py",
   "mimetype": "text/x-python",
   "name": "python",
   "nbconvert_exporter": "python",
   "pygments_lexer": "ipython3",
   "version": "3.12.3"
  }
 },
 "nbformat": 4,
 "nbformat_minor": 2
}
